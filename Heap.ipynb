{
 "cells": [
  {
   "cell_type": "markdown",
   "metadata": {},
   "source": [
    "# Heap\n",
    "\n",
    "---\n",
    "\n",
    "노드의 키들이 조건을 만족하는 완전이진트리로 최대힙(Max Heap)과 최소힙(Min Heap)이 있다.\n",
    "\n",
    "Max Heap : 부모노드의 키값이 자식노드의 키값보다 항상 크거나 같은 힙 (heap의 0번 원소의 값이 heap 내에서 가장 큼)<br/>\n",
    "Min Heap : 부모노드의 키값이 자식노드의 키값보다 항상 작거나 같은 힙 (heap의 0번 원소의 값이 heap 내에서 가장 작음)\n",
    "\n",
    "이러한 대소관계는 부모, 자식 노드 사이에만 성립하고 다른 노드간에는 성립하지 않는다<br/>\n",
    "최대힙의 경우, 루트노드의 오른쪽 모든 노드의 가장 큰 값이 왼쪽 모든 노드의 가장 작은 값보다 작을 수도 있다.<br/><br/>\n",
    "\n",
    "힙은 배열을 이용해 쉽게 구현할 수 있다.\n",
    "- 부모의 인덱스 = int(자식의 인덱스 / 2)<br/>\n",
    "- 왼쪽 자식의 인덱스 = 부모의 인덱스 \\* 2<br/>\n",
    "- 오른쪽 자식의 인덱스 = 부모의 인덱스 \\* 2 + 1<br/>\n",
    "\n",
    "편의상 0번째 인덱스는 사용하지 않는다"
   ]
  },
  {
   "cell_type": "code",
   "execution_count": 29,
   "metadata": {},
   "outputs": [],
   "source": [
    "#힙에서의 삽입 연산\n",
    "#1) 새로운 요소가 들어오면 새로운 노드를 히프의 마지막 노드에 이어 삽입 후\n",
    "#2) 새로운 노드를 부모 노드들과 교환해 힙의 성질을 만족시킴\n",
    "\n",
    "def insert_max_heap(heap, item):\n",
    "    i = len(heap)\n",
    "    while(i!=1 and item>heap[int(i/2)]):\n",
    "        heap[i] = heap[int(i/2)]\n",
    "        i = int(i/2)\n",
    "    heap.insert(i, item)"
   ]
  },
  {
   "cell_type": "code",
   "execution_count": 30,
   "metadata": {},
   "outputs": [
    {
     "data": {
      "text/plain": [
       "[0, 6, 5, 4, 3, 2, 1]"
      ]
     },
     "execution_count": 30,
     "metadata": {},
     "output_type": "execute_result"
    }
   ],
   "source": [
    "heap = [0,6,5,4,3,2]\n",
    "insert_max_heap(heap, 1)\n",
    "heap"
   ]
  },
  {
   "cell_type": "code",
   "execution_count": 33,
   "metadata": {},
   "outputs": [],
   "source": [
    "#힙에서의 삭제 연산\n",
    "#힙에서의 삭제(pop)는 루트 노드를 삭제\n",
    "#1) 루트노드를 삭제 후 마지막 노드를 루트노드로 이동시킨 후\n",
    "#2) 루트에서부터 노드를 교환해 히프 성질을 만족시킴\n",
    "\n",
    "def delete_max_heap(heap):\n",
    "    item = heap[1]\n",
    "    tmp = heap.pop(len(heap)-1)\n",
    "    parent = 1\n",
    "    child = 2\n",
    "    while(child<=len(heap)):\n",
    "        #현재 노드의 자식 노드 중 더 큰 자식 노드를 찾는다\n",
    "        if(child<len(heap) and heap[child]<heap[child+1]):\n",
    "            child += 1\n",
    "        if(tmp>=heap[child]):\n",
    "            break\n",
    "        heap[parent] = heap[child]\n",
    "        parent = child\n",
    "        child *= 2\n",
    "    heap[parent] = tmp\n",
    "    return item"
   ]
  },
  {
   "cell_type": "code",
   "execution_count": 34,
   "metadata": {},
   "outputs": [
    {
     "name": "stdout",
     "output_type": "stream",
     "text": [
      "6\n"
     ]
    },
    {
     "data": {
      "text/plain": [
       "[0, 5, 3, 4, 1, 2]"
      ]
     },
     "execution_count": 34,
     "metadata": {},
     "output_type": "execute_result"
    }
   ],
   "source": [
    "heap = [0,6,5,4,3,2,1]\n",
    "print(delete_max_heap(heap))\n",
    "heap"
   ]
  },
  {
   "cell_type": "code",
   "execution_count": 37,
   "metadata": {},
   "outputs": [],
   "source": [
    "#힙의 성질을 이용한 정렬도 가능하다\n",
    "\n",
    "def HeapSort(a):\n",
    "    n = len(a) - 1\n",
    "    #배열 a를 히프로 변환\n",
    "    #반복과 재귀 두가지 모두 구현 가능하다\n",
    "    for i in range(int(n/2), 0, -1):\n",
    "        Heapify(a, i, n)\n",
    "    #배열 a를 내림차순으로 정렬\n",
    "    for i in range(n-1, 0, -1):\n",
    "        a[1], a[i+1] = a[i+1], a[1]\n",
    "        Heapify(a, 1, i)\n",
    "\n",
    "def Heapify(a, h, m):\n",
    "    v = a[h]\n",
    "    j = 2*h\n",
    "    while(j <= m):\n",
    "        #j는 값이 작은 왼쪽 또는 오른쪽 자식노드로 설정(기본 왼쪽에 오른쪽이 더 작다면 오른쪽으로 변경)\n",
    "        if(j < m and a[j] > a[j+1]):\n",
    "            j += 1\n",
    "        if(v <= a[j]):\n",
    "            return 0\n",
    "        else:\n",
    "            a[int(j/2)] = a[j]\n",
    "        j *= 2\n",
    "    a[int(j/2)] = v"
   ]
  },
  {
   "cell_type": "code",
   "execution_count": 38,
   "metadata": {},
   "outputs": [
    {
     "data": {
      "text/plain": [
       "[0, 15, 14, 13, 10, 9, 9, 8, 8, 5, 4, 3, 2, 2, 2, 1]"
      ]
     },
     "execution_count": 38,
     "metadata": {},
     "output_type": "execute_result"
    }
   ],
   "source": [
    "a = [0,11,15,6,2,9,8,3,1,10,13,14, 5, 12, 4, 7]\n",
    "HeapSort(a)\n",
    "a"
   ]
  },
  {
   "cell_type": "markdown",
   "metadata": {},
   "source": [
    "### 파이썬 라이브러리 heapq\n",
    "---\n",
    "\n",
    "파이썬에서는 이러한 힙을 heapq라는 기본 라이브러리를 통해 제공하고 있다.<br/>\n",
    "특징으로는 1이 아닌 0부터 인덱싱을 사용하고 최대 힙이 아닌 최소 힙을 제공한다.\n",
    "\n",
    "##### 출처:파이썬 Documentation heapq : https://docs.python.org/ko/3/library/heapq.html"
   ]
  },
  {
   "cell_type": "code",
   "execution_count": 39,
   "metadata": {},
   "outputs": [],
   "source": [
    "import heapq"
   ]
  },
  {
   "cell_type": "markdown",
   "metadata": {},
   "source": [
    "#### heapq.heappush(heap, item)\n",
    "힙 불변성을 유지하면서, item 값을 heap으로 푸시합니다.<br/><br/>\n",
    "\n",
    "앞서 힙 삽입을 구현한 것처럼 말단부터 올라오게된다"
   ]
  },
  {
   "cell_type": "code",
   "execution_count": 44,
   "metadata": {},
   "outputs": [
    {
     "data": {
      "text/plain": [
       "[0, 1, 2, 1, 4, 5, 6, 3]"
      ]
     },
     "execution_count": 44,
     "metadata": {},
     "output_type": "execute_result"
    }
   ],
   "source": [
    "#heappush\n",
    "heap = [0,1,2,3,4,5,6]\n",
    "heapq.heappush(heap,1)\n",
    "heap"
   ]
  },
  {
   "cell_type": "markdown",
   "metadata": {},
   "source": [
    "#### heapq.heappop(heap)\n",
    "힙 불변성을 유지하면서, heap에서 가장 작은 항목을 팝하고 반환합니다.<br/>\n",
    "힙이 비어 있으면, IndexError가 발생합니다.<br/>\n",
    "팝 하지 않고 가장 작은 항목에 액세스하려면, heap[0]을 사용하십시오.<br/><br/>\n",
    "\n",
    "앞서 힙 삭제를 구현한 것처럼 말단노드와 루트노드가 자리를 바꾸고 교환을 통해 힙의 성질을 만족시킨다"
   ]
  },
  {
   "cell_type": "code",
   "execution_count": 46,
   "metadata": {},
   "outputs": [
    {
     "name": "stdout",
     "output_type": "stream",
     "text": [
      "0 [1, 3, 2, 6, 4, 5]\n"
     ]
    }
   ],
   "source": [
    "#heappop\n",
    "heap = [0,1,2,3,4,5,6]\n",
    "data = heapq.heappop(heap)\n",
    "print(data, heap)"
   ]
  },
  {
   "cell_type": "markdown",
   "metadata": {},
   "source": [
    "#### heapq.heappushpop(heap, item)\n",
    "힙에 item을 푸시한 다음, heap에서 가장 작은 항목을 팝하고 반환합니다.<br/>\n",
    "결합한 액션은 heappush()한 다음 heappop()을 별도로 호출하는 것보다 더 효율적으로 실행합니다.<br/><br/>\n",
    "\n",
    "push후 pop을 진행하기 때문에 push한 데이터가 가장 작은 경우 그대로 다시 나오게 된다<br/>\n",
    "따라서 힙이 비어있어도 오류가 발생하지 않는다"
   ]
  },
  {
   "cell_type": "code",
   "execution_count": 48,
   "metadata": {},
   "outputs": [
    {
     "name": "stdout",
     "output_type": "stream",
     "text": [
      "0 [1, 2, 3, 4, 5, 6, 7]\n",
      "0 [1, 3, 2, 7, 4, 5, 6]\n"
     ]
    }
   ],
   "source": [
    "#heappushpop\n",
    "heap = [1,2,3,4,5,6,7]\n",
    "data = heapq.heappushpop(heap, 0)\n",
    "print(data, heap)\n",
    "\n",
    "heap = [0,1,2,3,4,5,6]\n",
    "data = heapq.heappushpop(heap, 7)\n",
    "print(data, heap)"
   ]
  },
  {
   "cell_type": "markdown",
   "metadata": {},
   "source": [
    "#### heapq.heapify(x)\n",
    "리스트 x를 선형 시간으로 제자리에서 힙으로 변환합니다."
   ]
  },
  {
   "cell_type": "code",
   "execution_count": 50,
   "metadata": {},
   "outputs": [
    {
     "data": {
      "text/plain": [
       "[1, 3, 2, 4, 6, 7, 5]"
      ]
     },
     "execution_count": 50,
     "metadata": {},
     "output_type": "execute_result"
    }
   ],
   "source": [
    "heap = [7,6,5,4,3,2,1]\n",
    "heapq.heapify(heap)\n",
    "heap"
   ]
  },
  {
   "cell_type": "markdown",
   "metadata": {},
   "source": [
    "#### heapq.heapreplace(heap, item)\n",
    "heap에서 가장 작은 항목을 팝하고 반환하며, 새로운 item도 푸시합니다.<br/>\n",
    "힙 크기는 변경되지 않습니다. 힙이 비어 있으면, IndexError가 발생합니다.<br/><br/>\n",
    "\n",
    "heappushpop과 반대로 pop을 진행한 후 push를 진행한다<br/>\n",
    "따라서 힙이 비어있다면 오류가 발생하고 새로운 데이터가 가장 작은 값이더라도 힙에 남게된다"
   ]
  },
  {
   "cell_type": "code",
   "execution_count": 54,
   "metadata": {},
   "outputs": [
    {
     "name": "stdout",
     "output_type": "stream",
     "text": [
      "1 [0, 2, 3, 4, 5, 6, 7]\n",
      "0 [1, 3, 2, 7, 4, 5, 6]\n"
     ]
    }
   ],
   "source": [
    "#heapreplace\n",
    "heap = [1,2,3,4,5,6,7]\n",
    "data = heapq.heapreplace(heap, 0)\n",
    "print(data, heap)\n",
    "\n",
    "heap = [0,1,2,3,4,5,6]\n",
    "data = heapq.heapreplace(heap, 7)\n",
    "print(data, heap)"
   ]
  },
  {
   "cell_type": "markdown",
   "metadata": {},
   "source": [
    "#### heapq.merge(*iterables, key=None, reverse=False)\n",
    "여러 정렬된 입력을 단일 정렬된 출력으로 병합합니다 (예를 들어, 여러 로그 파일에서 타임 스탬프 된 항목을 병합합니다).<br/>\n",
    "정렬된 값에 대한 이터레이터를 반환합니다.<br/><br/>\n",
    "\n",
    "각각의 데이터의 가장 앞에 있는 데이터(index 0)를 비교 후 꺼내 정렬된 이터레이터를 반환한다"
   ]
  },
  {
   "cell_type": "code",
   "execution_count": 92,
   "metadata": {},
   "outputs": [
    {
     "data": {
      "text/plain": [
       "[1, 2, 3, 3, 4, 4, 3, 4, 4, 5, 5, 5, 6, 6, 7]"
      ]
     },
     "execution_count": 92,
     "metadata": {},
     "output_type": "execute_result"
    }
   ],
   "source": [
    "#merge\n",
    "data1 = [1,2,3,4,5]\n",
    "data2 = [4,3,4,5,6]\n",
    "data3 = [3,4,5,6,7]\n",
    "tmp = heapq.merge(data1, data2, data3)\n",
    "list(tmp)"
   ]
  },
  {
   "cell_type": "markdown",
   "metadata": {},
   "source": [
    "data1 = [1,2,3,4,5], data2 = [4,3,4,5,6], data3 = [3,4,5,6,7], tmp = [], (data1의 1, data2의 4, data3의 3) 중 data1의 1이 선택됨<br/>\n",
    "data1의 3까지 반복<br/>\n",
    "data1 = [4,5], data2 = [4,3,4,5,6], data3 = [3,4,5,6,7], tmp = [1,2,3], (data1의 4, data2의 4, data3의 3) 중 data3의 3이 선택됨<br/>\n",
    "data1 = [4,5], data2 = [4,3,4,5,6], data3 = [4,5,6,7], tmp = [1,2,3,3], (data1의 4, data2의 4, data3의 4) 중 data1의 4가 선택됨<br/>\n",
    "data1 = [5], data2 = [4,3,4,5,6], data3 = [4,5,6,7], tmp = [1,2,3,3,4], (data1의 5, data2의 4, data3의 4) 중 data2의 4가 선택됨<br/>\n",
    "data1 = [5], data2 = [3,4,5,6], data3 = [4,5,6,7], tmp = [1,2,3,3,4,4], 남은 데이터의 가장 앞에 있는 데이터 중 data2의 3이 가장 작으므로 data2의 3이 선택됨<br/>\n",
    "data1 = [5], data2 = [4,5,6], data3 = [4,5,6,7], tmp = [1,2,3,3,4,4,3], (data1의 5, data2의 4, data3의 4) 중 data2의 4가 선택됨<br/>\n",
    "...후략..."
   ]
  },
  {
   "cell_type": "markdown",
   "metadata": {},
   "source": [
    "#### heapq.nlargest(n, iterable, key=None)\n",
    "iterable에 의해 정의된 데이터 집합에서 n 개의 가장 큰 요소로 구성된 리스트를 반환합니다.<br/><br/>\n",
    "\n",
    "입력값에서 가장 큰 n개의 데이터를 리스트로 출력"
   ]
  },
  {
   "cell_type": "code",
   "execution_count": 94,
   "metadata": {},
   "outputs": [
    {
     "name": "stdout",
     "output_type": "stream",
     "text": [
      "[646, 7, 7]\n",
      "['z', 'y', 'x', 'k', 'j']\n"
     ]
    }
   ],
   "source": [
    "data = [4,7,3,3,2,5,7,646]\n",
    "print(heapq.nlargest(3,data))\n",
    "\n",
    "data = 'xyzabcijk'\n",
    "print(heapq.nlargest(5,data))"
   ]
  },
  {
   "cell_type": "markdown",
   "metadata": {},
   "source": [
    "#### heapq.nsmallest(n, iterable, key=None)\n",
    "iterable에 의해 정의된 데이터 집합에서 n 개의 가장 작은 요소로 구성된 리스트를 반환합니다.<br/><br/>\n",
    "\n",
    "입력값에서 가장 작은 n개의 데이터를 리스트로 출력"
   ]
  },
  {
   "cell_type": "code",
   "execution_count": 95,
   "metadata": {},
   "outputs": [
    {
     "name": "stdout",
     "output_type": "stream",
     "text": [
      "[2, 3, 3]\n",
      "['a', 'b', 'c', 'i', 'j']\n"
     ]
    }
   ],
   "source": [
    "data = [4,7,3,3,2,5,7,646]\n",
    "print(heapq.nsmallest(3,data))\n",
    "\n",
    "data = 'xyzabcijk'\n",
    "print(heapq.nsmallest(5,data))"
   ]
  },
  {
   "cell_type": "markdown",
   "metadata": {},
   "source": [
    "파이썬 document에 따르면 nlargest와 nsmallest는 n값이 작을때 가장 잘 동작하고,<br/>\n",
    "n값이 크면 sorted()기능을 사용하는것이, n = 1이라면 min() 또는 max()를 사용하는것이 더 효율적이라고 나와있다"
   ]
  }
 ],
 "metadata": {
  "kernelspec": {
   "display_name": "Python 3",
   "language": "python",
   "name": "python3"
  },
  "language_info": {
   "codemirror_mode": {
    "name": "ipython",
    "version": 3
   },
   "file_extension": ".py",
   "mimetype": "text/x-python",
   "name": "python",
   "nbconvert_exporter": "python",
   "pygments_lexer": "ipython3",
   "version": "3.6.12"
  }
 },
 "nbformat": 4,
 "nbformat_minor": 4
}
