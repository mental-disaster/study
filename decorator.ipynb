{
 "cells": [
  {
   "cell_type": "markdown",
   "metadata": {},
   "source": [
    "# Decorator\n",
    "\n",
    "---\n",
    "##### Decorator를 이해하기 위해서는 중첩함수와 함수를 입력으로 받는 함수에 대한 기본적이 이해가 필요하다\n",
    "이후 혼란을 겪지 않도록 간략하게 정리하고 가면<br/>\n",
    "a라는 함수가 있을 때 a는 함수 자체 a()는 함수의 결과(반환값)이다.\n",
    "\n",
    "따라서 return a를 하면 함수 자체를 할당해 이후에도 함수로 사용할 수 있고<br/>\n",
    "return a()를 하면 a의 결과를 할당해 필요한 곳에 이용할 수 있다.\n",
    "\n",
    "---\n",
    "decorator는 decorated된 요소를 인자로 받아 decorator를 실행한다<br/>\n",
    "decorate하면 decorator가 실행되고 그 결과가 해당값에 저장된다<br/>\n",
    "아래 예제를 보면 이해하기 편함"
   ]
  },
  {
   "cell_type": "code",
   "execution_count": 107,
   "metadata": {},
   "outputs": [
    {
     "name": "stdout",
     "output_type": "stream",
     "text": [
      "func_a_i\n",
      "func_a_o\n"
     ]
    }
   ],
   "source": [
    "#func_b를 인자로 받아 func_a가 실행되고 func_b에 func_a의 반환값이 할당된다\n",
    "\n",
    "def func_a(func):\n",
    "    print('func_a_i')\n",
    "    def func_a_i():\n",
    "        print('start')\n",
    "        func()\n",
    "        print('end')\n",
    "    print('func_a_o')\n",
    "    return func_a_i\n",
    "\n",
    "@func_a\n",
    "def func_b():\n",
    "    print('func_b')"
   ]
  },
  {
   "cell_type": "code",
   "execution_count": 108,
   "metadata": {},
   "outputs": [
    {
     "name": "stdout",
     "output_type": "stream",
     "text": [
      "start\n",
      "func_b\n",
      "end\n"
     ]
    }
   ],
   "source": [
    "func_b()"
   ]
  },
  {
   "cell_type": "code",
   "execution_count": 109,
   "metadata": {},
   "outputs": [
    {
     "name": "stdout",
     "output_type": "stream",
     "text": [
      "func_a_i\n",
      "func_a_o\n"
     ]
    }
   ],
   "source": [
    "def func_a(func):\n",
    "    print('func_a_i')\n",
    "    def func_a_i():\n",
    "        print('start')\n",
    "        func()\n",
    "        print('end')\n",
    "    print('func_a_o')\n",
    "    return func_a_i\n",
    "\n",
    "def func_b():\n",
    "    print('func_b')\n",
    "    \n",
    "func_b = func_a(func_b)"
   ]
  },
  {
   "cell_type": "code",
   "execution_count": 110,
   "metadata": {},
   "outputs": [
    {
     "name": "stdout",
     "output_type": "stream",
     "text": [
      "start\n",
      "func_b\n",
      "end\n"
     ]
    }
   ],
   "source": [
    "func_b()"
   ]
  },
  {
   "cell_type": "markdown",
   "metadata": {},
   "source": [
    "위 결과와 아래 결과가 동일한 것을 확인할 수 있다<br/>\n",
    "즉, func_b를 입력으로 func_a의 반환값이 func_b에 입력되는 것이다<br/>\n",
    "우리는 여기서 decorator로 함수 자체를 반환함으로써 원래 함수와 decorator에 있는 함수 모두 실행할 수 있다.\n",
    "\n",
    "func_b는 함수이고 이후 함수로 사용하기 위해 func_a의 반환값을 함수 자체로 받아야한다<br/>\n",
    "(아래는 잘못된 코드)"
   ]
  },
  {
   "cell_type": "code",
   "execution_count": 126,
   "metadata": {},
   "outputs": [
    {
     "name": "stdout",
     "output_type": "stream",
     "text": [
      "func_a_i\n",
      "func_a_o\n",
      "start\n",
      "func_b\n",
      "end\n"
     ]
    }
   ],
   "source": [
    "def func_a(func):\n",
    "    print('func_a_i')\n",
    "    def func_a_i():\n",
    "        print('start')\n",
    "        func()\n",
    "        print('end')\n",
    "        return 0\n",
    "    print('func_a_o')\n",
    "    #반환값이 func_a_i의 결과값인 func_a_i()가 되면 안된다!\n",
    "    return func_a_i()\n",
    "\n",
    "@func_a\n",
    "def func_b():\n",
    "    print('func_b')\n",
    "    \n",
    "#이 경우 원했던 결과인 func_b = func_a(func_b)가 아닌\n",
    "#fnuc_b = func_a_i()가 되어버린다"
   ]
  },
  {
   "cell_type": "code",
   "execution_count": 127,
   "metadata": {},
   "outputs": [
    {
     "data": {
      "text/plain": [
       "0"
      ]
     },
     "execution_count": 127,
     "metadata": {},
     "output_type": "execute_result"
    }
   ],
   "source": [
    "#실제로 func_b를 출력해보면 func_a_i 함수의 출력값인 0이 반환되어 func_b에 0이 할당되어 버린다\n",
    "func_b"
   ]
  },
  {
   "cell_type": "markdown",
   "metadata": {},
   "source": [
    "### decorator 예시\n",
    "\n",
    "decorator의 이용은 함수 실행에 있어 함수 밖에서 특정한 작업을 반복적으로 수행해야할 때 유용하게 사용할 수 있다.<br/>\n",
    "대표적인 예시로 함수의 수행 시간을 측정하는 것이 있다."
   ]
  },
  {
   "cell_type": "code",
   "execution_count": 142,
   "metadata": {},
   "outputs": [
    {
     "name": "stdout",
     "output_type": "stream",
     "text": [
      "job1 take 0.0sec\n",
      "job2 take 0.0sec\n",
      "job3 take 0.015046358108520508sec\n",
      "job4 take 0.15782499313354492sec\n",
      "job5 take 1.5502729415893555sec\n"
     ]
    }
   ],
   "source": [
    "#끔찍한 방법\n",
    "\n",
    "import time\n",
    "\n",
    "def job1():\n",
    "    for i in range(100):\n",
    "        pass\n",
    "    \n",
    "def job2():\n",
    "    for i in range(10000):\n",
    "        pass\n",
    "\n",
    "def job3():\n",
    "    for i in range(1000000):\n",
    "        pass\n",
    "    \n",
    "def job4():\n",
    "    for i in range(10000000):\n",
    "        pass\n",
    "    \n",
    "def job5():\n",
    "    for i in range(100000000):\n",
    "        pass\n",
    "\n",
    "st = time.time()\n",
    "job1()\n",
    "print('job1 take {0}sec'.format(time.time()-st))\n",
    "st = time.time()\n",
    "job2()\n",
    "print('job2 take {0}sec'.format(time.time()-st))\n",
    "st = time.time()\n",
    "job3()\n",
    "print('job3 take {0}sec'.format(time.time()-st))\n",
    "st = time.time()\n",
    "job4()\n",
    "print('job4 take {0}sec'.format(time.time()-st))\n",
    "st = time.time()\n",
    "job5()\n",
    "print('job5 take {0}sec'.format(time.time()-st))"
   ]
  },
  {
   "cell_type": "code",
   "execution_count": 143,
   "metadata": {},
   "outputs": [
    {
     "name": "stdout",
     "output_type": "stream",
     "text": [
      "job1 take 0.0 sec\n",
      "job2 take 0.0 sec\n",
      "job3 take 0.01563405990600586 sec\n",
      "job4 take 0.15872931480407715 sec\n",
      "job5 take 1.4750473499298096 sec\n"
     ]
    }
   ],
   "source": [
    "#효율적인 방법\n",
    "\n",
    "import time\n",
    "\n",
    "def timespand(func):\n",
    "    def t():\n",
    "        st = time.time()\n",
    "        func()\n",
    "        print('{0} take {1} sec'.format(func.__name__,time.time()-st))\n",
    "    return t\n",
    "\n",
    "@timespand\n",
    "def job1():\n",
    "    for i in range(100):\n",
    "        pass\n",
    "    \n",
    "@timespand\n",
    "def job2():\n",
    "    for i in range(10000):\n",
    "        pass\n",
    "\n",
    "@timespand\n",
    "def job3():\n",
    "    for i in range(1000000):\n",
    "        pass\n",
    "    \n",
    "@timespand\n",
    "def job4():\n",
    "    for i in range(10000000):\n",
    "        pass\n",
    "    \n",
    "@timespand\n",
    "def job5():\n",
    "    for i in range(100000000):\n",
    "        pass\n",
    "    \n",
    "job1()\n",
    "job2()\n",
    "job3()\n",
    "job4()\n",
    "job5()"
   ]
  },
  {
   "cell_type": "markdown",
   "metadata": {},
   "source": [
    "이처럼 decorator를 사용하면 가독성 좋고 간단하게 함수를 꾸며줄 수 있다"
   ]
  }
 ],
 "metadata": {
  "kernelspec": {
   "display_name": "Python 3",
   "language": "python",
   "name": "python3"
  },
  "language_info": {
   "codemirror_mode": {
    "name": "ipython",
    "version": 3
   },
   "file_extension": ".py",
   "mimetype": "text/x-python",
   "name": "python",
   "nbconvert_exporter": "python",
   "pygments_lexer": "ipython3",
   "version": "3.6.12"
  }
 },
 "nbformat": 4,
 "nbformat_minor": 4
}
