{
 "cells": [
  {
   "cell_type": "code",
   "execution_count": 1,
   "id": "84b96a97-d1ba-4f62-8efd-5d255a73c457",
   "metadata": {},
   "outputs": [
    {
     "name": "stdout",
     "output_type": "stream",
     "text": [
      "hello world\n"
     ]
    }
   ],
   "source": [
    "print('hello world')"
   ]
  },
  {
   "cell_type": "code",
   "execution_count": 284,
   "id": "f9fe61ee-cc15-4ec2-a580-e6d37d618b00",
   "metadata": {},
   "outputs": [],
   "source": [
    "from collections import deque\n",
    "\n",
    "class Node():\n",
    "    def __init__(self, value, parent=None):\n",
    "        self.value = value\n",
    "        self.parent = parent\n",
    "        self.left = None\n",
    "        self.right = None\n",
    "\n",
    "    def __str__(self):\n",
    "        return str(self.value)\n",
    "\n",
    "    def save_left(self, value):\n",
    "        self.left = Node(value, self)\n",
    "\n",
    "    def save_right(self, value):\n",
    "        self.right = Node(value, self)\n",
    "\n",
    "    def draw_tree(self, prefix=\"\", is_left=True):\n",
    "        if self.right:\n",
    "            self.right.draw_tree(prefix + (\"│   \" if is_left else \"    \"), False)\n",
    "        \n",
    "        print(prefix + (\"└── \" if is_left else \"┌── \") + str(self.value))\n",
    "        \n",
    "        if self.left:\n",
    "            self.left.draw_tree(prefix + (\"    \" if is_left else \"│   \"), True)\n",
    "\n",
    "    # 너비 우선 탐색\n",
    "    def bfs(self):\n",
    "        queue = deque([self])\n",
    "        res = []\n",
    "    \n",
    "        while queue:\n",
    "            node = queue.popleft()\n",
    "    \n",
    "            res.append(node.value)\n",
    "            if node.left:\n",
    "                queue.append(node.left)\n",
    "            if node.right:\n",
    "                queue.append(node.right)\n",
    "        return res\n",
    "\n",
    "    # 레벨 순서 탐색\n",
    "    def lot(self):\n",
    "        level = 1\n",
    "        queue = deque([self])\n",
    "        \n",
    "        while queue:\n",
    "            print(f'{level}: {\" \".join(map(str, queue))}')\n",
    "            level_size = len(queue)\n",
    "            \n",
    "            for _ in range(level_size):\n",
    "                node = queue.popleft()\n",
    "    \n",
    "                if node.left:\n",
    "                    queue.append(node.left)\n",
    "                if node.right:\n",
    "                    queue.append(node.right)\n",
    "            level += 1\n",
    "        \n",
    "    # dfs 반복문 구현 (전위 순회)\n",
    "    def dfs(root_node):\n",
    "        if not root_node:\n",
    "            return []\n",
    "        \n",
    "        stack = [root_node]\n",
    "        res = []\n",
    "    \n",
    "        while stack:\n",
    "            node = stack.pop()\n",
    "            \n",
    "            res.append(node.value)\n",
    "            if node.right:\n",
    "                stack.append(node.right)\n",
    "            if node.left:\n",
    "                stack.append(node.left)\n",
    "    \n",
    "        return res\n",
    "    \n",
    "    # 전위 순회\n",
    "    def preorder(self):\n",
    "        res = [self.value]\n",
    "        if self.left:\n",
    "            res += self.left.preorder()\n",
    "        if self.right:\n",
    "            res += self.right.preorder()\n",
    "        return res\n",
    "\n",
    "    # 중위 순회\n",
    "    def inorder(self):\n",
    "        res = []\n",
    "        if self.left:\n",
    "            res += self.left.inorder()\n",
    "        res.append(self.value)\n",
    "        if self.right:\n",
    "            res += self.right.inorder()\n",
    "        return res\n",
    "\n",
    "    # 후위 순회\n",
    "    def postorder(self):\n",
    "        res = []\n",
    "        if self.left:\n",
    "            res += self.left.postorder()\n",
    "        if self.right:\n",
    "            res += self.right.postorder()\n",
    "        res.append(self.value)\n",
    "        return res\n",
    "\n",
    "    # 트리 높이\n",
    "    def get_height(self):\n",
    "        left_height = self.left.get_height() if self.left else 0\n",
    "        right_height = self.right.get_height() if self.right else 0\n",
    "        return 1 + max(left_height, right_height)\n",
    "\n",
    "    # 노드 개수\n",
    "    def get_node_count(self):\n",
    "        left_count = self.left.get_node_count() if self.left else 0\n",
    "        right_count = self.right.get_node_count() if self.right else 0\n",
    "        return 1 + left_count + right_count\n",
    "\n",
    "    # 경로 합 경우의 수\n",
    "    def get_all_path_sums(self, current_sum=0):\n",
    "        res = set()\n",
    "        current_sum += self.value\n",
    "\n",
    "        res.add(current_sum)\n",
    "\n",
    "        if self.left:\n",
    "            res.update(self.left.get_all_path_sums(current_sum))\n",
    "        if self.right:\n",
    "            res.update(self.right.get_all_path_sums(current_sum))\n",
    "\n",
    "        return res\n",
    "\n",
    "    # 거울 트리로 변환\n",
    "    def to_mirror_tree(self):\n",
    "        self.left, self.right = self.right, self.left\n",
    "\n",
    "        if self.left:\n",
    "            self.left.to_mirror_tree()\n",
    "        if self.right:\n",
    "            self.right.to_mirror_tree()"
   ]
  },
  {
   "cell_type": "code",
   "execution_count": 285,
   "id": "9be63863-f916-479a-9be0-d010ca6eedd3",
   "metadata": {},
   "outputs": [
    {
     "name": "stdout",
     "output_type": "stream",
     "text": [
      "preorder: [0, 1, 3, 10, 4, 2, 5, 6]\n",
      "inorder: [3, 10, 1, 4, 0, 5, 2, 6]\n",
      "postorder: [10, 3, 4, 1, 5, 6, 2, 0]\n"
     ]
    }
   ],
   "source": [
    "root = Node(0)\n",
    "root.save_left(1)\n",
    "root.save_right(2)\n",
    "root.left.save_left(3)\n",
    "root.left.save_right(4)\n",
    "root.right.save_left(5)\n",
    "root.right.save_right(6)\n",
    "root.left.left.save_right(10)\n",
    "print(f'preorder: {root.preorder()}')\n",
    "print(f'inorder: {root.inorder()}')\n",
    "print(f'postorder: {root.postorder()}')"
   ]
  },
  {
   "cell_type": "code",
   "execution_count": 126,
   "id": "bcac662a-63d5-429d-bff6-51ae1bfdef93",
   "metadata": {},
   "outputs": [
    {
     "name": "stdout",
     "output_type": "stream",
     "text": [
      "│       ┌── 6\n",
      "│   ┌── 2\n",
      "│   │   └── 5\n",
      "└── 0\n",
      "    │   ┌── 4\n",
      "    └── 1\n",
      "        │   ┌── 10\n",
      "        └── 3\n"
     ]
    }
   ],
   "source": [
    "root.draw_tree()"
   ]
  },
  {
   "cell_type": "code",
   "execution_count": 247,
   "id": "db40ba0a-dc55-4e43-a6d5-02b858c180f9",
   "metadata": {},
   "outputs": [
    {
     "name": "stdout",
     "output_type": "stream",
     "text": [
      "[0, 1, 3, 10, 4, 2, 5, 6]\n",
      "[0, 1, 3, 10, 4, 2, 5, 6]\n"
     ]
    }
   ],
   "source": [
    "print(root.dfs())\n",
    "print(root.preorder())"
   ]
  },
  {
   "cell_type": "code",
   "execution_count": 244,
   "id": "bec5277b-8a7f-4436-b426-b6524bb13b57",
   "metadata": {},
   "outputs": [
    {
     "data": {
      "text/plain": [
       "[0, 1, 2, 3, 4, 5, 6, 10]"
      ]
     },
     "execution_count": 244,
     "metadata": {},
     "output_type": "execute_result"
    }
   ],
   "source": [
    "root.bfs()"
   ]
  },
  {
   "cell_type": "code",
   "execution_count": 131,
   "id": "3c2247c7-f375-4615-805e-40f930687a06",
   "metadata": {},
   "outputs": [
    {
     "name": "stdout",
     "output_type": "stream",
     "text": [
      "4\n"
     ]
    }
   ],
   "source": [
    "print(root.get_height())"
   ]
  },
  {
   "cell_type": "code",
   "execution_count": 132,
   "id": "e6d5d152-d660-48c5-b75f-c1235863ce4a",
   "metadata": {},
   "outputs": [
    {
     "name": "stdout",
     "output_type": "stream",
     "text": [
      "None\n",
      "1\n"
     ]
    }
   ],
   "source": [
    "print(root.parent)\n",
    "print(root.left.left.parent)"
   ]
  },
  {
   "cell_type": "code",
   "execution_count": 199,
   "id": "5e35cc08-6452-4848-878e-ca4bc3fbcc1b",
   "metadata": {},
   "outputs": [
    {
     "data": {
      "text/plain": [
       "8"
      ]
     },
     "execution_count": 199,
     "metadata": {},
     "output_type": "execute_result"
    }
   ],
   "source": [
    "root.get_node_count()"
   ]
  },
  {
   "cell_type": "code",
   "execution_count": 218,
   "id": "0f20e73e-44c4-4f08-9028-15f23c6c1541",
   "metadata": {},
   "outputs": [
    {
     "data": {
      "text/plain": [
       "{0, 1, 2, 4, 5, 7, 8, 14}"
      ]
     },
     "execution_count": 218,
     "metadata": {},
     "output_type": "execute_result"
    }
   ],
   "source": [
    "root.get_all_path_sums()"
   ]
  },
  {
   "cell_type": "code",
   "execution_count": 221,
   "id": "b61de497-f5da-4286-8bd3-39f58cc41743",
   "metadata": {},
   "outputs": [],
   "source": [
    "def lca(node_a, node_b):\n",
    "    ancestors = set()\n",
    "    while node_a:\n",
    "        ancestors.add(node_a)\n",
    "        node_a = node_a.parent\n",
    "\n",
    "\n",
    "    while node_b:\n",
    "        if node_b in ancestors:\n",
    "            return node_b\n",
    "        node_b = node_b.parent\n",
    "\n",
    "    return None"
   ]
  },
  {
   "cell_type": "code",
   "execution_count": 229,
   "id": "757fe19e-c68e-4dfa-bc02-0954436ae0a7",
   "metadata": {},
   "outputs": [
    {
     "name": "stdout",
     "output_type": "stream",
     "text": [
      "│       ┌── 6\n",
      "│   ┌── 2\n",
      "│   │   └── 5\n",
      "└── 0\n",
      "    │   ┌── 4\n",
      "    └── 1\n",
      "        │   ┌── 10\n",
      "        └── 3\n",
      "1\n",
      "1\n"
     ]
    }
   ],
   "source": [
    "root.draw_tree()\n",
    "\n",
    "print(root.left)\n",
    "print(lca(root.left.right, root.left.left))"
   ]
  },
  {
   "cell_type": "code",
   "execution_count": 240,
   "id": "0b606e99-8a73-4209-b5e8-ae203e8bed05",
   "metadata": {},
   "outputs": [
    {
     "name": "stdout",
     "output_type": "stream",
     "text": [
      "│       ┌── 6\n",
      "│   ┌── 2\n",
      "│   │   └── 5\n",
      "└── 0\n",
      "    │   ┌── 4\n",
      "    └── 1\n",
      "        │   ┌── 10\n",
      "        └── 3\n",
      "\n",
      "\n",
      "mirror tree\n",
      "│       ┌── 3\n",
      "│       │   └── 10\n",
      "│   ┌── 1\n",
      "│   │   └── 4\n",
      "└── 0\n",
      "    │   ┌── 5\n",
      "    └── 2\n",
      "        └── 6\n"
     ]
    }
   ],
   "source": [
    "root.draw_tree()\n",
    "print('\\n\\nmirror tree')\n",
    "root.to_mirror_tree()\n",
    "root.draw_tree()"
   ]
  },
  {
   "cell_type": "code",
   "execution_count": 286,
   "id": "b55f2f20-a2b4-4291-bc31-4efa3f174a44",
   "metadata": {},
   "outputs": [
    {
     "name": "stdout",
     "output_type": "stream",
     "text": [
      "1: 0\n",
      "2: 1 2\n",
      "3: 3 4 5 6\n",
      "4: 10\n"
     ]
    }
   ],
   "source": [
    "root.lot()"
   ]
  },
  {
   "cell_type": "code",
   "execution_count": null,
   "id": "df9fc9d1-d66f-45af-8e86-c01c93e7efd5",
   "metadata": {},
   "outputs": [],
   "source": []
  }
 ],
 "metadata": {
  "kernelspec": {
   "display_name": "Python 3 (ipykernel)",
   "language": "python",
   "name": "python3"
  },
  "language_info": {
   "codemirror_mode": {
    "name": "ipython",
    "version": 3
   },
   "file_extension": ".py",
   "mimetype": "text/x-python",
   "name": "python",
   "nbconvert_exporter": "python",
   "pygments_lexer": "ipython3",
   "version": "3.9.7"
  }
 },
 "nbformat": 4,
 "nbformat_minor": 5
}
