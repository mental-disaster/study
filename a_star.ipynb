{
 "cells": [
  {
   "cell_type": "markdown",
   "id": "05dc4b0c",
   "metadata": {},
   "source": [
    "# A STAR 알고리즘\n",
    "---\n",
    "목표와의 거리 거리, 측정 법에 따라 (유클리디안, 멘허튼) 알고리즘 성능이 달라질 수 있다 h(n)<br>\n",
    "시작점과의 거리 g(n)<br>\n",
    "h(n), g(n)의 합 f(n)을 사용해 최단거리 계산<br><br>\n",
    "\n",
    "다익스트라 알고리즘과 유사"
   ]
  },
  {
   "cell_type": "code",
   "execution_count": null,
   "id": "b2c91107",
   "metadata": {},
   "outputs": [],
   "source": [
    "class Node():\n",
    "    def __init__(self, parent=None, location=None):\n",
    "        self.parent = parent\n",
    "        self.location = location\n",
    "        self.g = 0\n",
    "        self.h = 0\n",
    "        self.f = 0\n",
    "\n",
    "    def __eq__(self,other):\n",
    "        return self.location == other.location\n",
    "\n",
    "def heuristic(curr):\n",
    "    return N*2-curr[0]-curr[1]-2\n",
    "\n",
    "def aStar(mat,start=[0,0],end=[N-1,N-1]):\n",
    "    startNode = Node(None,start)\n",
    "    endNode = Node(None,end)\n",
    "\n",
    "    openList = []\n",
    "    closedList = []\n",
    "\n",
    "    openList.append(startNode)\n",
    "\n",
    "    while(openList):\n",
    "        curr = openList[0]\n",
    "        currIdx = 0\n",
    "\n",
    "        for idx, node in enumerate(openList):\n",
    "            if(node.f < curr.f):\n",
    "                curr = node\n",
    "                currIdx = idx\n",
    "\n",
    "        openList.pop(currIdx)\n",
    "        closedList.append(curr)\n",
    "\n",
    "        if(curr == endNode):\n",
    "            move = 1\n",
    "            while(curr.parent):\n",
    "                curr = curr.parent\n",
    "                move += 1\n",
    "            return move\n",
    "\n",
    "        for movement in [[0,-1],[0,1],[-1,0],[1,0]]:\n",
    "            loc = [curr.location[0]+movement[0],curr.location[1]+movement[1]]\n",
    "            if((not 0<=loc[0]<N) or (not 0<=loc[1]<N)):\n",
    "                continue\n",
    "            if(not matrix[loc[0]][loc[1]]):\n",
    "                continue\n",
    "            child = Node(curr,loc)\n",
    "            if(child not in closedList):\n",
    "                child.g = curr.g + 1\n",
    "                child.h = heuristic(child.location)\n",
    "                child.f = child.g + child.h\n",
    "                if([conflict for conflict in openList if(child==conflict and child.g>conflict.g)]):\n",
    "                    continue\n",
    "                openList.append(child)\n",
    "    return -1"
   ]
  }
 ],
 "metadata": {
  "kernelspec": {
   "display_name": "Python 3",
   "language": "python",
   "name": "python3"
  },
  "language_info": {
   "codemirror_mode": {
    "name": "ipython",
    "version": 3
   },
   "file_extension": ".py",
   "mimetype": "text/x-python",
   "name": "python",
   "nbconvert_exporter": "python",
   "pygments_lexer": "ipython3",
   "version": "3.8.8"
  }
 },
 "nbformat": 4,
 "nbformat_minor": 5
}
