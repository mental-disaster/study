{
 "cells": [
  {
   "cell_type": "markdown",
   "id": "70803d6d",
   "metadata": {},
   "source": [
    "### 유클리드 호제법\n",
    "2개의 자연수(또는 정식) a, b에 대해서 a를 b로 나눈 나머지를 r이라 하면(단, a>b), a와 b의 최대공약수는 b와 r의 최대공약수와 같다.<br/>\n",
    "이 성질에 따라, b를 r로 나눈 나머지 r'를 구하고, 다시 r을 r'로 나눈 나머지를 구하는 과정을 반복하여 나머지가 0이 되었을 때 나누는 수가 a와 b의 최대공약수이다.\n",
    "\n",
    "###### 출처 : 위키백과 https://ko.wikipedia.org/wiki/%EC%9C%A0%ED%81%B4%EB%A6%AC%EB%93%9C_%ED%98%B8%EC%A0%9C%EB%B2%95"
   ]
  },
  {
   "cell_type": "code",
   "execution_count": 2,
   "id": "5f2bc486",
   "metadata": {},
   "outputs": [],
   "source": [
    "def GCD(a,b):\n",
    "    a,b = max(a,b),min(a,b)\n",
    "    while(b):\n",
    "        a,b = b,a%b\n",
    "    return a"
   ]
  },
  {
   "cell_type": "code",
   "execution_count": 3,
   "id": "7d1731d6",
   "metadata": {},
   "outputs": [
    {
     "name": "stdout",
     "output_type": "stream",
     "text": [
      "1\n",
      "6\n",
      "7\n",
      "21\n"
     ]
    }
   ],
   "source": [
    "print(GCD(13,7))\n",
    "print(GCD(12,6))\n",
    "print(GCD(21,28))\n",
    "print(GCD(1071,1029))"
   ]
  },
  {
   "cell_type": "markdown",
   "id": "cabdf0ca",
   "metadata": {},
   "source": [
    "### 최대공약수를 이용한 최소공배수 구하기\n",
    "a와 b가 각각 x \\* y, x \\* z로 이루어져 있다면 a와 b의 최소공배수는 x \\* y \\* z이다.<br/>\n",
    "여기서 x는 최대공약수이고 a \\* b = x^2 \\* y \\* z이다 따라서 a \\* b를 최대공약수(x)로 나누어주면 최소공배수를 구할 수 있다.<br/>"
   ]
  },
  {
   "cell_type": "code",
   "execution_count": 4,
   "id": "ffbf124c",
   "metadata": {},
   "outputs": [],
   "source": [
    "def LCM(a,b):\n",
    "    return int(a*b/GCD(a,b))"
   ]
  },
  {
   "cell_type": "code",
   "execution_count": 5,
   "id": "f2983889",
   "metadata": {},
   "outputs": [
    {
     "name": "stdout",
     "output_type": "stream",
     "text": [
      "28\n",
      "91\n",
      "12\n",
      "84\n",
      "52479\n"
     ]
    }
   ],
   "source": [
    "print(LCM(7,4))\n",
    "print(LCM(13,7))\n",
    "print(LCM(12,6))\n",
    "print(LCM(21,28))\n",
    "print(LCM(1071,1029))"
   ]
  },
  {
   "cell_type": "code",
   "execution_count": null,
   "id": "ce1c1718",
   "metadata": {},
   "outputs": [],
   "source": []
  }
 ],
 "metadata": {
  "kernelspec": {
   "display_name": "Python 3",
   "language": "python",
   "name": "python3"
  },
  "language_info": {
   "codemirror_mode": {
    "name": "ipython",
    "version": 3
   },
   "file_extension": ".py",
   "mimetype": "text/x-python",
   "name": "python",
   "nbconvert_exporter": "python",
   "pygments_lexer": "ipython3",
   "version": "3.8.8"
  }
 },
 "nbformat": 4,
 "nbformat_minor": 5
}
