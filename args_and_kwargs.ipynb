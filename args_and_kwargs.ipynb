{
 "cells": [
  {
   "cell_type": "markdown",
   "id": "0a973aff",
   "metadata": {},
   "source": [
    "## args, kwargs\n",
    "---\n",
    "#### args\n",
    "여러 입력을 받아 tuple 형태로 입력<br/>\n",
    "임의개의 arguments를 입력으로 받아야할 때 사용할 수 있다.\n",
    "\n",
    "#### kwargs\n",
    "여러 키워드 입력을 받아 dictionary 형태로 입력<br/>\n",
    "임의개의 keyword arguments를 입력으로 받아야할 때 사용할 수 있다."
   ]
  },
  {
   "cell_type": "code",
   "execution_count": 9,
   "id": "fb893b68",
   "metadata": {},
   "outputs": [
    {
     "name": "stdout",
     "output_type": "stream",
     "text": [
      "<class 'tuple'> (1, 1, 1, 1, 1, 1, 1, 1, 1, 1)\n"
     ]
    },
    {
     "data": {
      "text/plain": [
       "10"
      ]
     },
     "execution_count": 9,
     "metadata": {},
     "output_type": "execute_result"
    }
   ],
   "source": [
    "def plus(*args):\n",
    "    print(type(args),args)\n",
    "    return sum(args)\n",
    "\n",
    "plus(1,1,1,1,1,1,1,1,1,1)"
   ]
  },
  {
   "cell_type": "code",
   "execution_count": 20,
   "id": "b2d7123f",
   "metadata": {},
   "outputs": [
    {
     "name": "stdout",
     "output_type": "stream",
     "text": [
      "<class 'dict'> {'hi': 0, 'hello': 1, 'greetings': 2, 'howdy': 3, 'hey': 4, 'yo': 5}\n",
      "hi : 0\n",
      "hello : 1\n",
      "greetings : 2\n",
      "howdy : 3\n",
      "hey : 4\n",
      "yo : 5\n"
     ]
    },
    {
     "data": {
      "text/plain": [
       "{'hi': 0, 'hello': 1, 'greetings': 2, 'howdy': 3, 'hey': 4, 'yo': 5}"
      ]
     },
     "execution_count": 20,
     "metadata": {},
     "output_type": "execute_result"
    }
   ],
   "source": [
    "def hi(**kwargs):\n",
    "    print(type(kwargs),kwargs)\n",
    "    for i in kwargs:\n",
    "        print(f'{i} : {kwargs.get(i)}')\n",
    "    return kwargs\n",
    "\n",
    "hi(hi=0,hello=1,greetings=2,howdy=3,hey=4,yo=5)"
   ]
  },
  {
   "cell_type": "code",
   "execution_count": null,
   "id": "cf8cc23d",
   "metadata": {},
   "outputs": [],
   "source": []
  }
 ],
 "metadata": {
  "kernelspec": {
   "display_name": "Python 3",
   "language": "python",
   "name": "python3"
  },
  "language_info": {
   "codemirror_mode": {
    "name": "ipython",
    "version": 3
   },
   "file_extension": ".py",
   "mimetype": "text/x-python",
   "name": "python",
   "nbconvert_exporter": "python",
   "pygments_lexer": "ipython3",
   "version": "3.8.8"
  }
 },
 "nbformat": 4,
 "nbformat_minor": 5
}
