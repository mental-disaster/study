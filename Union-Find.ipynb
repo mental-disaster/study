{
 "cells": [
  {
   "cell_type": "markdown",
   "metadata": {},
   "source": [
    "# Union - Find\n",
    "\n",
    "---\n",
    "\n",
    "### 서로소 집합 자료 구조를 조작하는 주요한 두 연산\n",
    "\n",
    "##### 파인드(Find):\n",
    "어떤 원소가 주어졌을 때 이 원소가 속한 집합을 반환한다. 파인드는 일반적으로 어떤 원소가 속한 집합을 \"대표\" 하는 원소를 반환하는데, 이를 위하여 어떤 원소와 각 대표 원소들 간의 파인드 결과를 비교하여 같은 집합임을 판단한다.\n",
    "\n",
    "\n",
    "##### 유니온(Union):\n",
    "두 개의 집합을 하나의 집합으로 합친다.\n",
    "<br/><br/>\n",
    "유니온 연산을 통해 서로 다른 두 노드를 같은 집합으로 결합하고<br/>\n",
    "파인드 연산을 통해 서로 다른 두 노드가 같은 집합에 속하는지 판단할 수 있다.\n",
    "\n",
    "\n",
    "###### 출처 : 위키백과 https://ko.wikipedia.org/wiki/%EC%84%9C%EB%A1%9C%EC%86%8C_%EC%A7%91%ED%95%A9_%EC%9E%90%EB%A3%8C_%EA%B5%AC%EC%A1%B0"
   ]
  },
  {
   "cell_type": "code",
   "execution_count": 95,
   "metadata": {},
   "outputs": [],
   "source": [
    "'''\n",
    "#루트노드를 찾는 함수\n",
    "def find(x):\n",
    "    if(x==parent[x]):\n",
    "        return x\n",
    "    else:\n",
    "        return find(parent[x])\n",
    "'''\n",
    "\n",
    "#위와 동일하게 루트노드를 찾는 함수지만 find를 실행함과 동시에 부모를 자동으로 루트노드로 바꿔준다\n",
    "#이후에 find 함수가 불필요하게 실행되는것을 방지\n",
    "def find(x):\n",
    "    if(x==parent[x]):\n",
    "        return x\n",
    "    else:\n",
    "        parent[x] = find(parent[x])\n",
    "        return parent[x]"
   ]
  },
  {
   "cell_type": "code",
   "execution_count": 96,
   "metadata": {},
   "outputs": [
    {
     "data": {
      "text/plain": [
       "[0, 0, 0, 0]"
      ]
     },
     "execution_count": 96,
     "metadata": {},
     "output_type": "execute_result"
    }
   ],
   "source": [
    "#아래 find 함수를 사용하면 3번 노드의 find 수행 후 부모노드가 자동으로 루트노드로 바뀐다\n",
    "parent = [0, 0, 0, 2]\n",
    "find(3)\n",
    "parent"
   ]
  },
  {
   "cell_type": "code",
   "execution_count": 97,
   "metadata": {},
   "outputs": [],
   "source": [
    "#두 부모노드를 결합한다\n",
    "def union(x, y):\n",
    "    x = find(x)\n",
    "    y = find(y)\n",
    "    if(x!=y):\n",
    "        if(x<y):\n",
    "            parent[y] = x\n",
    "        else:\n",
    "            parent[x] = y"
   ]
  },
  {
   "cell_type": "code",
   "execution_count": 98,
   "metadata": {},
   "outputs": [
    {
     "name": "stdout",
     "output_type": "stream",
     "text": [
      "[0, 1, 2, 3, 4, 5, 6, 7, 8, 9]\n",
      "[0, 1, 1, 2, 1, 4, 6, 7, 8, 9]\n"
     ]
    }
   ],
   "source": [
    "parent = [i for i in range(10)]\n",
    "union(2, 3)\n",
    "union(1, 2)\n",
    "union(4, 5)\n",
    "union(2, 5)\n",
    "print([i for i in range(10)])\n",
    "print(parent)"
   ]
  },
  {
   "cell_type": "code",
   "execution_count": 99,
   "metadata": {},
   "outputs": [],
   "source": [
    "#두 노드의 부모가 같은지 확인하는 함수\n",
    "def is_same_parent(x, y):\n",
    "    x = find(x)\n",
    "    y = find(y)\n",
    "    if(x==y):\n",
    "        return True\n",
    "    else:\n",
    "        return False"
   ]
  },
  {
   "cell_type": "code",
   "execution_count": 103,
   "metadata": {},
   "outputs": [
    {
     "name": "stdout",
     "output_type": "stream",
     "text": [
      "2 3 True\n",
      "2 5 True\n",
      "0 1 False\n",
      "\n",
      "2 3 True\n",
      "2 5 True\n",
      "0 1 False\n"
     ]
    }
   ],
   "source": [
    "print(2, 3, is_same_parent(2, 3))\n",
    "print(2, 5, is_same_parent(2, 5))\n",
    "print(0, 1, is_same_parent(0, 1), end='\\n\\n')\n",
    "#또는\n",
    "print(2, 3, find(2)==find(3))\n",
    "print(2, 5, find(2)==find(5))\n",
    "print(0, 1, find(0)==find(1))"
   ]
  },
  {
   "cell_type": "code",
   "execution_count": null,
   "metadata": {},
   "outputs": [],
   "source": []
  }
 ],
 "metadata": {
  "kernelspec": {
   "display_name": "Python 3",
   "language": "python",
   "name": "python3"
  },
  "language_info": {
   "codemirror_mode": {
    "name": "ipython",
    "version": 3
   },
   "file_extension": ".py",
   "mimetype": "text/x-python",
   "name": "python",
   "nbconvert_exporter": "python",
   "pygments_lexer": "ipython3",
   "version": "3.8.8"
  }
 },
 "nbformat": 4,
 "nbformat_minor": 4
}
