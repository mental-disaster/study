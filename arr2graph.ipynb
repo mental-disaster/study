{
 "cells": [
  {
   "cell_type": "markdown",
   "id": "fcea2b30",
   "metadata": {},
   "source": [
    "### Graph\n",
    "---\n",
    "행렬을 그래프로 표현하기<br/>\n",
    "<img src=\"./1.png\" width=\"200\" height=\"200\"/> <img src=\"./2.png\" width=\"200\" height=\"200\"/>\n",
    "위와 같이 만들어진 행렬을 아래와 같은 그래프로 변환하기"
   ]
  },
  {
   "cell_type": "code",
   "execution_count": 1,
   "id": "ba58a69b",
   "metadata": {},
   "outputs": [],
   "source": [
    "import numpy as np"
   ]
  },
  {
   "cell_type": "code",
   "execution_count": 6,
   "id": "aadd871c",
   "metadata": {},
   "outputs": [
    {
     "data": {
      "text/plain": [
       "array([[2, 9, 7, 3, 1],\n",
       "       [1, 4, 4, 4, 9],\n",
       "       [9, 4, 5, 8, 6],\n",
       "       [6, 4, 8, 0, 9],\n",
       "       [4, 8, 6, 4, 8]])"
      ]
     },
     "execution_count": 6,
     "metadata": {},
     "output_type": "execute_result"
    }
   ],
   "source": [
    "np.random.seed = 42\n",
    "\n",
    "n = 5\n",
    "arr = np.random.randint(10,size=(n,n))\n",
    "arr"
   ]
  },
  {
   "cell_type": "code",
   "execution_count": 35,
   "id": "78872bed",
   "metadata": {
    "scrolled": false
   },
   "outputs": [
    {
     "data": {
      "text/plain": [
       "{'0': {5: 1, 1: 9},\n",
       " '1': {6: 4, 0: 2, 2: 7},\n",
       " '2': {7: 4, 1: 9, 3: 3},\n",
       " '3': {8: 4, 2: 7, 4: 1},\n",
       " '4': {9: 9, 3: 3},\n",
       " '5': {10: 9, 0: 2, 6: 4},\n",
       " '6': {11: 4, 1: 9, 5: 1, 7: 4},\n",
       " '7': {12: 5, 2: 7, 6: 4, 8: 4},\n",
       " '8': {13: 8, 3: 3, 7: 4, 9: 9},\n",
       " '9': {14: 6, 4: 1, 8: 4},\n",
       " '10': {15: 6, 5: 1, 11: 4},\n",
       " '11': {16: 4, 6: 4, 10: 9, 12: 5},\n",
       " '12': {17: 8, 7: 4, 11: 4, 13: 8},\n",
       " '13': {18: 0, 8: 4, 12: 5, 14: 6},\n",
       " '14': {19: 9, 9: 9, 13: 8},\n",
       " '15': {20: 4, 10: 9, 16: 4},\n",
       " '16': {21: 8, 11: 4, 15: 6, 17: 8},\n",
       " '17': {22: 6, 12: 5, 16: 4, 18: 0},\n",
       " '18': {23: 4, 13: 8, 17: 8, 19: 9},\n",
       " '19': {24: 8, 14: 6, 18: 0},\n",
       " '20': {15: 6, 21: 8},\n",
       " '21': {16: 4, 20: 4, 22: 6},\n",
       " '22': {17: 8, 21: 8, 23: 4},\n",
       " '23': {18: 0, 22: 6, 24: 8},\n",
       " '24': {19: 9, 23: 4}}"
      ]
     },
     "execution_count": 35,
     "metadata": {},
     "output_type": "execute_result"
    }
   ],
   "source": [
    "graph = {}\n",
    "move = [[1,0],[-1,0],[0,-1],[0,1]]\n",
    "for i in range(len(arr)):\n",
    "    for j in range(len(arr[i])):\n",
    "        graph[str(n*i+j)]={}\n",
    "        for x,y in move:\n",
    "            if(i+x>=0 and i+x<n and j+y>=0 and j+y<n):\n",
    "                graph[str(n*i+j)][n*i+j+n*x+y] = arr[i+x][j+y]\n",
    "graph"
   ]
  },
  {
   "cell_type": "markdown",
   "id": "74beb17d",
   "metadata": {},
   "source": [
    "3중 반복문...<br/>\n",
    "더 나은 방법이 없을까..."
   ]
  },
  {
   "cell_type": "code",
   "execution_count": null,
   "id": "06415f89",
   "metadata": {},
   "outputs": [],
   "source": []
  }
 ],
 "metadata": {
  "kernelspec": {
   "display_name": "Python 3",
   "language": "python",
   "name": "python3"
  },
  "language_info": {
   "codemirror_mode": {
    "name": "ipython",
    "version": 3
   },
   "file_extension": ".py",
   "mimetype": "text/x-python",
   "name": "python",
   "nbconvert_exporter": "python",
   "pygments_lexer": "ipython3",
   "version": "3.8.8"
  }
 },
 "nbformat": 4,
 "nbformat_minor": 5
}
