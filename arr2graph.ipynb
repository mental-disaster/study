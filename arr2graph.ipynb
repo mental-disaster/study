{
 "cells": [
  {
   "cell_type": "markdown",
   "id": "6274aba3",
   "metadata": {},
   "source": [
    "### Graph\n",
    "---\n",
    "행렬을 그래프로 표현하기<br/>\n",
    "<img src=\"./img/1.png\" width=\"200\" height=\"200\"/> <img src=\"./img/2.png\" width=\"200\" height=\"200\"/>\n",
    "위와 같이 만들어진 행렬을 아래와 같은 그래프로 변환하기"
   ]
  },
  {
   "cell_type": "code",
   "execution_count": 1,
   "id": "1a1f2857",
   "metadata": {},
   "outputs": [],
   "source": [
    "import numpy as np"
   ]
  },
  {
   "cell_type": "code",
   "execution_count": 2,
   "id": "e817a645",
   "metadata": {},
   "outputs": [
    {
     "data": {
      "text/plain": [
       "array([[1, 0, 7, 1, 4],\n",
       "       [6, 8, 3, 7, 1],\n",
       "       [8, 6, 3, 2, 5],\n",
       "       [6, 2, 3, 8, 3],\n",
       "       [5, 0, 1, 0, 5]])"
      ]
     },
     "execution_count": 2,
     "metadata": {},
     "output_type": "execute_result"
    }
   ],
   "source": [
    "np.random.seed = 42\n",
    "\n",
    "n = 5\n",
    "arr = np.random.randint(10,size=(n,n))\n",
    "arr"
   ]
  },
  {
   "cell_type": "code",
   "execution_count": 7,
   "id": "a769c81f",
   "metadata": {
    "scrolled": false
   },
   "outputs": [
    {
     "data": {
      "text/plain": [
       "{'0': {'5': 6, '1': 0},\n",
       " '1': {'6': 8, '0': 1, '2': 7},\n",
       " '2': {'7': 3, '1': 0, '3': 1},\n",
       " '3': {'8': 7, '2': 7, '4': 4},\n",
       " '4': {'9': 1, '3': 1},\n",
       " '5': {'10': 8, '0': 1, '6': 8},\n",
       " '6': {'11': 6, '1': 0, '5': 6, '7': 3},\n",
       " '7': {'12': 3, '2': 7, '6': 8, '8': 7},\n",
       " '8': {'13': 2, '3': 1, '7': 3, '9': 1},\n",
       " '9': {'14': 5, '4': 4, '8': 7},\n",
       " '10': {'15': 6, '5': 6, '11': 6},\n",
       " '11': {'16': 2, '6': 8, '10': 8, '12': 3},\n",
       " '12': {'17': 3, '7': 3, '11': 6, '13': 2},\n",
       " '13': {'18': 8, '8': 7, '12': 3, '14': 5},\n",
       " '14': {'19': 3, '9': 1, '13': 2},\n",
       " '15': {'20': 5, '10': 8, '16': 2},\n",
       " '16': {'21': 0, '11': 6, '15': 6, '17': 3},\n",
       " '17': {'22': 1, '12': 3, '16': 2, '18': 8},\n",
       " '18': {'23': 0, '13': 2, '17': 3, '19': 3},\n",
       " '19': {'24': 5, '14': 5, '18': 8},\n",
       " '20': {'15': 6, '21': 0},\n",
       " '21': {'16': 2, '20': 5, '22': 1},\n",
       " '22': {'17': 3, '21': 0, '23': 0},\n",
       " '23': {'18': 8, '22': 1, '24': 5},\n",
       " '24': {'19': 3, '23': 0}}"
      ]
     },
     "execution_count": 7,
     "metadata": {},
     "output_type": "execute_result"
    }
   ],
   "source": [
    "graph = {}\n",
    "move = [[1,0],[-1,0],[0,-1],[0,1]]\n",
    "for i in range(len(arr)):\n",
    "    for j in range(len(arr[i])):\n",
    "        graph[str(n*i+j)]={}\n",
    "        for x,y in move:\n",
    "            if(i+x>=0 and i+x<n and j+y>=0 and j+y<n):\n",
    "                graph[str(n*i+j)][str(n*i+j+n*x+y)] = arr[i+x][j+y]\n",
    "graph"
   ]
  },
  {
   "cell_type": "markdown",
   "id": "97eb4b34",
   "metadata": {},
   "source": [
    "3중 반복문...<br/>\n",
    "더 나은 방법이 없을까..."
   ]
  },
  {
   "cell_type": "markdown",
   "id": "e6e12c86",
   "metadata": {},
   "source": [
    "#### BFS(너비 우선 탐색) 구현하기"
   ]
  },
  {
   "cell_type": "code",
   "execution_count": 13,
   "id": "67470e8f",
   "metadata": {},
   "outputs": [],
   "source": [
    "def BFS(graph,start):\n",
    "    at = []\n",
    "    q = []\n",
    "    \n",
    "    q.append(start)\n",
    "    \n",
    "    while(q):\n",
    "        node = q.pop(0)\n",
    "        if(node not in at):\n",
    "            at.append(node)\n",
    "            for new in graph[node]:\n",
    "                q.append(new)\n",
    "    return at"
   ]
  },
  {
   "cell_type": "code",
   "execution_count": 14,
   "id": "62a35a69",
   "metadata": {},
   "outputs": [
    {
     "data": {
      "text/plain": [
       "['0',\n",
       " '5',\n",
       " '1',\n",
       " '10',\n",
       " '6',\n",
       " '2',\n",
       " '15',\n",
       " '11',\n",
       " '7',\n",
       " '3',\n",
       " '20',\n",
       " '16',\n",
       " '12',\n",
       " '8',\n",
       " '4',\n",
       " '21',\n",
       " '17',\n",
       " '13',\n",
       " '9',\n",
       " '22',\n",
       " '18',\n",
       " '14',\n",
       " '23',\n",
       " '19',\n",
       " '24']"
      ]
     },
     "execution_count": 14,
     "metadata": {},
     "output_type": "execute_result"
    }
   ],
   "source": [
    "BFS(graph,'0')"
   ]
  },
  {
   "cell_type": "code",
   "execution_count": null,
   "id": "65d85450",
   "metadata": {},
   "outputs": [],
   "source": []
  }
 ],
 "metadata": {
  "kernelspec": {
   "display_name": "Python 3",
   "language": "python",
   "name": "python3"
  },
  "language_info": {
   "codemirror_mode": {
    "name": "ipython",
    "version": 3
   },
   "file_extension": ".py",
   "mimetype": "text/x-python",
   "name": "python",
   "nbconvert_exporter": "python",
   "pygments_lexer": "ipython3",
   "version": "3.8.8"
  }
 },
 "nbformat": 4,
 "nbformat_minor": 5
}
