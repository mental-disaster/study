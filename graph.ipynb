{
 "cells": [
  {
   "cell_type": "markdown",
   "id": "6274aba3",
   "metadata": {},
   "source": [
    "### Graph\n",
    "---\n",
    "행렬을 그래프로 표현하기<br/>\n",
    "<img src=\"./img/1.png\" width=\"200\" height=\"200\"/> <img src=\"./img/2.png\" width=\"200\" height=\"200\"/>\n",
    "위와 같이 만들어진 행렬을 아래와 같은 그래프로 변환하기"
   ]
  },
  {
   "cell_type": "code",
   "execution_count": 1,
   "id": "1a1f2857",
   "metadata": {},
   "outputs": [],
   "source": [
    "import numpy as np"
   ]
  },
  {
   "cell_type": "code",
   "execution_count": 4,
   "id": "e817a645",
   "metadata": {},
   "outputs": [
    {
     "data": {
      "text/plain": [
       "array([[5, 9, 7, 5, 8],\n",
       "       [7, 6, 5, 3, 2],\n",
       "       [8, 4, 8, 5, 6],\n",
       "       [8, 3, 8, 5, 7],\n",
       "       [8, 9, 2, 0, 1]])"
      ]
     },
     "execution_count": 4,
     "metadata": {},
     "output_type": "execute_result"
    }
   ],
   "source": [
    "np.random.seed = 42\n",
    "\n",
    "n = 5\n",
    "arr = np.random.randint(10,size=(n,n))\n",
    "arr"
   ]
  },
  {
   "cell_type": "code",
   "execution_count": 5,
   "id": "a769c81f",
   "metadata": {
    "scrolled": false
   },
   "outputs": [
    {
     "data": {
      "text/plain": [
       "{'0': {'5': 7, '1': 9},\n",
       " '1': {'6': 6, '0': 5, '2': 7},\n",
       " '2': {'7': 5, '1': 9, '3': 5},\n",
       " '3': {'8': 3, '2': 7, '4': 8},\n",
       " '4': {'9': 2, '3': 5},\n",
       " '5': {'10': 8, '0': 5, '6': 6},\n",
       " '6': {'11': 4, '1': 9, '5': 7, '7': 5},\n",
       " '7': {'12': 8, '2': 7, '6': 6, '8': 3},\n",
       " '8': {'13': 5, '3': 5, '7': 5, '9': 2},\n",
       " '9': {'14': 6, '4': 8, '8': 3},\n",
       " '10': {'15': 8, '5': 7, '11': 4},\n",
       " '11': {'16': 3, '6': 6, '10': 8, '12': 8},\n",
       " '12': {'17': 8, '7': 5, '11': 4, '13': 5},\n",
       " '13': {'18': 5, '8': 3, '12': 8, '14': 6},\n",
       " '14': {'19': 7, '9': 2, '13': 5},\n",
       " '15': {'20': 8, '10': 8, '16': 3},\n",
       " '16': {'21': 9, '11': 4, '15': 8, '17': 8},\n",
       " '17': {'22': 2, '12': 8, '16': 3, '18': 5},\n",
       " '18': {'23': 0, '13': 5, '17': 8, '19': 7},\n",
       " '19': {'24': 1, '14': 6, '18': 5},\n",
       " '20': {'15': 8, '21': 9},\n",
       " '21': {'16': 3, '20': 8, '22': 2},\n",
       " '22': {'17': 8, '21': 9, '23': 0},\n",
       " '23': {'18': 5, '22': 2, '24': 1},\n",
       " '24': {'19': 7, '23': 0}}"
      ]
     },
     "execution_count": 5,
     "metadata": {},
     "output_type": "execute_result"
    }
   ],
   "source": [
    "graph = {}\n",
    "move = [[1,0],[-1,0],[0,-1],[0,1]]\n",
    "for i in range(len(arr)):\n",
    "    for j in range(len(arr[i])):\n",
    "        graph[str(n*i+j)]={}\n",
    "        for x,y in move:\n",
    "            if(i+x>=0 and i+x<n and j+y>=0 and j+y<n):\n",
    "                graph[str(n*i+j)][str(n*i+j+n*x+y)] = arr[i+x][j+y]\n",
    "graph"
   ]
  },
  {
   "cell_type": "markdown",
   "id": "97eb4b34",
   "metadata": {},
   "source": [
    "3중 반복문...<br/>\n",
    "더 나은 방법이 없을까..."
   ]
  },
  {
   "cell_type": "code",
   "execution_count": 2,
   "id": "fd09c2ef",
   "metadata": {},
   "outputs": [
    {
     "data": {
      "text/plain": [
       "{'0': {'1': 0, '2': 0},\n",
       " '1': {'0': 0, '3': 0, '4': 0},\n",
       " '2': {'0': 0, '5': 0, '6': 0},\n",
       " '3': {'1': 0},\n",
       " '4': {'1': 0},\n",
       " '5': {'2': 0},\n",
       " '6': {'2': 0}}"
      ]
     },
     "execution_count": 2,
     "metadata": {},
     "output_type": "execute_result"
    }
   ],
   "source": [
    "graph = {\n",
    "    '0':{'1':0,'2':0},\n",
    "    '1':{'0':0,'3':0,'4':0},\n",
    "    '2':{'0':0,'5':0,'6':0},\n",
    "    '3':{'1':0},\n",
    "    '4':{'1':0},\n",
    "    '5':{'2':0},\n",
    "    '6':{'2':0}\n",
    "}\n",
    "\n",
    "graph"
   ]
  },
  {
   "cell_type": "markdown",
   "id": "e6e12c86",
   "metadata": {},
   "source": [
    "#### BFS(너비 우선 탐색) 구현하기"
   ]
  },
  {
   "cell_type": "code",
   "execution_count": 14,
   "id": "67470e8f",
   "metadata": {},
   "outputs": [],
   "source": [
    "def BFS(graph,start):\n",
    "    at = []\n",
    "    q = []\n",
    "    \n",
    "    q.append(start)\n",
    "    \n",
    "    while(q):\n",
    "        node = q.pop(0)\n",
    "        if(node not in at):\n",
    "            at.append(node)\n",
    "            for new in graph[node]:\n",
    "                q.append(new)\n",
    "    return at"
   ]
  },
  {
   "cell_type": "code",
   "execution_count": 15,
   "id": "62a35a69",
   "metadata": {},
   "outputs": [
    {
     "data": {
      "text/plain": [
       "['0', '1', '2', '3', '4', '5', '6']"
      ]
     },
     "execution_count": 15,
     "metadata": {},
     "output_type": "execute_result"
    }
   ],
   "source": [
    "BFS(graph,'0')"
   ]
  },
  {
   "cell_type": "markdown",
   "id": "43b150f9",
   "metadata": {},
   "source": [
    "#### DFS(깊이 우선 탐색 구현하기)"
   ]
  },
  {
   "cell_type": "code",
   "execution_count": 16,
   "id": "13af2ee3",
   "metadata": {},
   "outputs": [],
   "source": [
    "#반복문으로 구현\n",
    "\n",
    "def DFS(graph,start):\n",
    "    at = []\n",
    "    s = []\n",
    "    \n",
    "    s.append(start)\n",
    "    \n",
    "    while(s):\n",
    "        node = s.pop()\n",
    "        if(node not in at):\n",
    "            at.append(node)\n",
    "            for new in graph[node]:\n",
    "                s.append(new)\n",
    "    return at"
   ]
  },
  {
   "cell_type": "code",
   "execution_count": 17,
   "id": "174e6c30",
   "metadata": {},
   "outputs": [
    {
     "data": {
      "text/plain": [
       "['0', '2', '6', '5', '1', '4', '3']"
      ]
     },
     "execution_count": 17,
     "metadata": {},
     "output_type": "execute_result"
    }
   ],
   "source": [
    "DFS(graph,'0')"
   ]
  },
  {
   "cell_type": "code",
   "execution_count": 5,
   "id": "700fad9e",
   "metadata": {},
   "outputs": [],
   "source": [
    "#재귀로 구현\n",
    "\n",
    "at = []\n",
    "\n",
    "def DFS(graph,node):\n",
    "    \n",
    "    at.append(node)\n",
    "    \n",
    "    for n in graph[node]:\n",
    "        if(n not in at):\n",
    "            DFS(graph,n)\n",
    "            \n",
    "    return at"
   ]
  },
  {
   "cell_type": "code",
   "execution_count": 6,
   "id": "a87284cb",
   "metadata": {},
   "outputs": [
    {
     "data": {
      "text/plain": [
       "['0', '1', '3', '4', '2', '5', '6']"
      ]
     },
     "execution_count": 6,
     "metadata": {},
     "output_type": "execute_result"
    }
   ],
   "source": [
    "DFS(graph,'0')"
   ]
  },
  {
   "cell_type": "markdown",
   "id": "7cf85b50",
   "metadata": {},
   "source": [
    "#### 다익스트라 알고리즘\n",
    "하나의 시작 정점에서 다른 정점까지의 최단 경로를 계산<br/>\n",
    "시간복잡도 : O(n^2)"
   ]
  },
  {
   "cell_type": "code",
   "execution_count": 1,
   "id": "e3397ccf",
   "metadata": {},
   "outputs": [
    {
     "data": {
      "text/plain": [
       "{0: {0: 0, 1: 7, 2: inf, 3: inf, 4: 3, 5: 10, 6: inf},\n",
       " 1: {0: 7, 1: 0, 2: 4, 3: 10, 4: 2, 5: 6, 6: inf},\n",
       " 2: {0: inf, 1: 4, 2: 0, 3: 2, 4: inf, 5: inf, 6: inf},\n",
       " 3: {0: inf, 1: 10, 2: 2, 3: 0, 4: 11, 5: 9, 6: 4},\n",
       " 4: {0: 3, 1: 2, 2: inf, 3: 11, 4: 0, 5: inf, 6: 5},\n",
       " 5: {0: 10, 1: 6, 2: inf, 3: 9, 4: inf, 5: 0, 6: inf},\n",
       " 6: {0: inf, 1: inf, 2: inf, 3: 4, 4: 5, 5: inf, 6: 0}}"
      ]
     },
     "execution_count": 1,
     "metadata": {},
     "output_type": "execute_result"
    }
   ],
   "source": [
    "#자기자신 거리 0\n",
    "#이어지지 않음 거리 inf\n",
    "\n",
    "graph = {\n",
    "    0:{0:0, 1:7, 2:float('inf'),3:float('inf'), 4:3, 5:10, 6:float('inf')},\n",
    "    1:{0:7, 1:0, 2:4, 3:10, 4:2, 5:6, 6:float('inf')},\n",
    "    2:{0:float('inf'), 1:4, 2:0, 3:2, 4:float('inf'), 5:float('inf'), 6:float('inf')},\n",
    "    3:{0:float('inf'), 1:10, 2:2, 3:0, 4:11, 5:9, 6:4},\n",
    "    4:{0:3, 1:2, 2:float('inf'), 3:11, 4:0, 5:float('inf'), 6:5},\n",
    "    5:{0:10, 1:6, 2:float('inf'), 3:9, 4:float('inf'), 5:0, 6:float('inf')},\n",
    "    6:{0:float('inf'), 1:float('inf'), 2:float('inf'), 3:4, 4:5, 5:float('inf'), 6:0}\n",
    "}\n",
    "\n",
    "graph"
   ]
  },
  {
   "cell_type": "code",
   "execution_count": 33,
   "id": "4b45ea91",
   "metadata": {
    "scrolled": false
   },
   "outputs": [
    {
     "name": "stdout",
     "output_type": "stream",
     "text": [
      "distance : [0, 7, inf, inf, 3, 10, inf]\n",
      "found: [True, False, False, False, False, False, False]\n",
      "\n",
      "distance : [0, 5, inf, 14, 3, 10, 8]\n",
      "found: [True, False, False, False, True, False, False]\n",
      "\n",
      "distance : [0, 5, 9, 14, 3, 10, 8]\n",
      "found: [True, True, False, False, True, False, False]\n",
      "\n",
      "distance : [0, 5, 9, 12, 3, 10, 8]\n",
      "found: [True, True, False, False, True, False, True]\n",
      "\n",
      "distance : [0, 5, 9, 11, 3, 10, 8]\n",
      "found: [True, True, True, False, True, False, True]\n",
      "\n",
      "distance : [0, 5, 9, 11, 3, 10, 8]\n",
      "found: [True, True, True, False, True, True, True]\n",
      "\n",
      "shortest path from 0 to 0 : 0\n",
      "shortest path from 0 to 1 : 5\n",
      "shortest path from 0 to 2 : 9\n",
      "shortest path from 0 to 3 : 11\n",
      "shortest path from 0 to 4 : 3\n",
      "shortest path from 0 to 5 : 10\n",
      "shortest path from 0 to 6 : 8\n"
     ]
    }
   ],
   "source": [
    "def choose(distance,n,found):\n",
    "    min = float('inf')\n",
    "    minpos = -1\n",
    "    for i in range(n):\n",
    "        if(distance[i]<min and not found[i]):\n",
    "            min = distance[i]\n",
    "            minpos = i\n",
    "    return minpos\n",
    "\n",
    "def Dijkstra(graph, start):\n",
    "    distance = list(range(len(graph)))\n",
    "    found = list(range(len(graph)))\n",
    "    \n",
    "    for i in range(len(graph)):\n",
    "        distance[i] = graph[start][i]\n",
    "        found[i] = False\n",
    "    found[start] = True\n",
    "    distance[start] = 0\n",
    "    for i in range(len(graph)-1):\n",
    "        print(f'distance : {distance}\\nfound: {found}',end='\\n\\n')\n",
    "        u = choose(distance,len(graph),found)\n",
    "        found[u] = True\n",
    "        for w in range(len(graph)):\n",
    "            if(not found[w]):\n",
    "                if(distance[u]+graph[u][w]<distance[w]):\n",
    "                    distance[w] = distance[u] + graph[u][w]\n",
    "    return distance\n",
    "                    \n",
    "start = 0\n",
    "shortest_path = Dijkstra(graph,start)\n",
    "for i in range(len(graph)):\n",
    "    print(f'shortest path from {start} to {i} : {shortest_path[i]}')"
   ]
  },
  {
   "cell_type": "markdown",
   "id": "59ce9d6b",
   "metadata": {},
   "source": [
    "#### Floyd 알고리즘\n",
    "모든 정점에서 다른 모든 정점까지의 최단 경로를 계산<br/>\n",
    "시간복잡도 : O(n^3)"
   ]
  },
  {
   "cell_type": "code",
   "execution_count": 3,
   "id": "abff09d0",
   "metadata": {},
   "outputs": [
    {
     "data": {
      "text/plain": [
       "[[0, 5, 9, 11, 3, 10, 8],\n",
       " [5, 0, 4, 6, 2, 6, 7],\n",
       " [9, 4, 0, 2, 6, 10, 6],\n",
       " [11, 6, 2, 0, 8, 9, 4],\n",
       " [3, 2, 6, 8, 0, 8, 5],\n",
       " [10, 6, 10, 9, 8, 0, 13],\n",
       " [8, 7, 6, 4, 5, 13, 0]]"
      ]
     },
     "execution_count": 3,
     "metadata": {},
     "output_type": "execute_result"
    }
   ],
   "source": [
    "def Floyd(graph):\n",
    "    A = [[0 for i in range(len(graph))] for j in range(len(graph))]\n",
    "    \n",
    "    for i in range(len(graph)):\n",
    "        for j in range(len(graph)):\n",
    "            A[i][j] = graph[i][j]\n",
    "            \n",
    "    for k in range(len(graph)):\n",
    "        for i in range(len(graph)):\n",
    "            for j in range(len(graph)):\n",
    "                if(A[i][k]+A[k][j]<A[i][j]):\n",
    "                    A[i][j] = A[i][k] + A[k][j]\n",
    "    return A\n",
    "\n",
    "result = Floyd(graph)\n",
    "result"
   ]
  },
  {
   "cell_type": "code",
   "execution_count": null,
   "id": "5e647891",
   "metadata": {},
   "outputs": [],
   "source": []
  }
 ],
 "metadata": {
  "kernelspec": {
   "display_name": "Python 3",
   "language": "python",
   "name": "python3"
  },
  "language_info": {
   "codemirror_mode": {
    "name": "ipython",
    "version": 3
   },
   "file_extension": ".py",
   "mimetype": "text/x-python",
   "name": "python",
   "nbconvert_exporter": "python",
   "pygments_lexer": "ipython3",
   "version": "3.8.8"
  }
 },
 "nbformat": 4,
 "nbformat_minor": 5
}
