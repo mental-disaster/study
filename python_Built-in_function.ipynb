{
 "cells": [
  {
   "cell_type": "markdown",
   "metadata": {},
   "source": [
    "# Python 내장함수\n",
    "---\n",
    "파이썬 내장함수 살펴보기\n",
    "\n",
    "##### 출처 : Python documantation 내장함수<br/>https://docs.python.org/ko/3/library/functions.html"
   ]
  },
  {
   "cell_type": "markdown",
   "metadata": {},
   "source": [
    "---\n",
    "#### bin(x)\n",
    "정수 x를 '0b'가 앞에 붙은 이진 문자열로 변환합니다.<br/>\n",
    "int 타입이 아닌 입력(float,string,list 등)이 들어가면 에러가 출력된다.<br/>\n",
    "float 타입 정수가 입력되어도 에러가 출력됨<br/>\n",
    "format을 이용해 바로 바꿀 수도 있다."
   ]
  },
  {
   "cell_type": "code",
   "execution_count": 44,
   "metadata": {},
   "outputs": [
    {
     "data": {
      "text/plain": [
       "'0b1110'"
      ]
     },
     "execution_count": 44,
     "metadata": {},
     "output_type": "execute_result"
    }
   ],
   "source": [
    "bin(14)"
   ]
  },
  {
   "cell_type": "code",
   "execution_count": 48,
   "metadata": {},
   "outputs": [
    {
     "ename": "TypeError",
     "evalue": "'float' object cannot be interpreted as an integer",
     "output_type": "error",
     "traceback": [
      "\u001b[1;31m---------------------------------------------------------------------------\u001b[0m",
      "\u001b[1;31mTypeError\u001b[0m                                 Traceback (most recent call last)",
      "\u001b[1;32m<ipython-input-48-812a299b1e8c>\u001b[0m in \u001b[0;36m<module>\u001b[1;34m\u001b[0m\n\u001b[1;32m----> 1\u001b[1;33m \u001b[0mbin\u001b[0m\u001b[1;33m(\u001b[0m\u001b[0mfloat\u001b[0m\u001b[1;33m(\u001b[0m\u001b[1;36m14\u001b[0m\u001b[1;33m)\u001b[0m\u001b[1;33m)\u001b[0m\u001b[1;33m\u001b[0m\u001b[1;33m\u001b[0m\u001b[0m\n\u001b[0m",
      "\u001b[1;31mTypeError\u001b[0m: 'float' object cannot be interpreted as an integer"
     ]
    }
   ],
   "source": [
    "bin(float(14))"
   ]
  },
  {
   "cell_type": "code",
   "execution_count": 50,
   "metadata": {},
   "outputs": [
    {
     "name": "stdout",
     "output_type": "stream",
     "text": [
      "14를 정수로 바꾸면 0b1110 입니다.\n",
      "0b1110은 정수는 14입니다.\n"
     ]
    }
   ],
   "source": [
    "print(f'14를 정수로 바꾸면 {14:#b} 입니다.')\n",
    "print('{0}은 정수는 14입니다.'.format(format(14,'#b')))"
   ]
  },
  {
   "cell_type": "markdown",
   "metadata": {},
   "source": [
    "---\n",
    "#### chr(i)\n",
    "유니코드 코드 포인트가 정수 i인 문자를 나타내는 문자열을 돌려줍니다.<br/>\n",
    "0에서 1,114,111까지 범위의 int 타입 입력을 해당하는 유니코드 문자로 출력해준다.<br/>\n",
    "ord()의 반대\n",
    "\n",
    "#### ord(c)\n",
    "하나의 유니코드 문자를 나타내는 문자열이 주어지면 해당 문자의 유니코드 코드 포인트를 나타내는 정수를 돌려줍니다.<br/>\n",
    "유니코드 문자를 입력하면 해당 문자의 코드 포인트를 나타내는 정수를 출력해준다.(인터넷에서 아스키코드표, 유니코드표의 그것)<br/>\n",
    "chr()의 반대"
   ]
  },
  {
   "cell_type": "code",
   "execution_count": 58,
   "metadata": {},
   "outputs": [
    {
     "data": {
      "text/plain": [
       "'€'"
      ]
     },
     "execution_count": 58,
     "metadata": {},
     "output_type": "execute_result"
    }
   ],
   "source": [
    "chr(8364)"
   ]
  },
  {
   "cell_type": "code",
   "execution_count": 61,
   "metadata": {},
   "outputs": [
    {
     "data": {
      "text/plain": [
       "72"
      ]
     },
     "execution_count": 61,
     "metadata": {},
     "output_type": "execute_result"
    }
   ],
   "source": [
    "ord('H')"
   ]
  },
  {
   "cell_type": "code",
   "execution_count": 66,
   "metadata": {},
   "outputs": [
    {
     "data": {
      "text/plain": [
       "52"
      ]
     },
     "execution_count": 66,
     "metadata": {},
     "output_type": "execute_result"
    }
   ],
   "source": [
    "ord('4')"
   ]
  },
  {
   "cell_type": "code",
   "execution_count": 70,
   "metadata": {},
   "outputs": [
    {
     "data": {
      "text/plain": [
       "'H'"
      ]
     },
     "execution_count": 70,
     "metadata": {},
     "output_type": "execute_result"
    }
   ],
   "source": [
    "chr(ord('H'))"
   ]
  },
  {
   "cell_type": "code",
   "execution_count": 71,
   "metadata": {},
   "outputs": [
    {
     "data": {
      "text/plain": [
       "8364"
      ]
     },
     "execution_count": 71,
     "metadata": {},
     "output_type": "execute_result"
    }
   ],
   "source": [
    "ord(chr(8364))"
   ]
  },
  {
   "cell_type": "markdown",
   "metadata": {},
   "source": [
    "---\n",
    "#### complex(real, imag)\n",
    "real + imag\\*1j 값을 가진 복소수를 돌려주거나 문자열 또는 숫자를 복소수로 변환합니다.<br/>\n",
    "실수부와 허수부를 가진 숫자형, 복소수(complex) 타입으로 반환하기 위한 함수<br/>\n",
    "숫자형은 실수부와 허수부를 입력, 문자열은 여백없이 단일 입력으로 사용할 수 있다.<br/>\n",
    "float과 int의 연산에서 자동으로 float 타입으로 형변환 하는것과 마찬가지로 다른 숫자형과 연산을 시도하면 자동으로 complex 타입으로 변환해준다."
   ]
  },
  {
   "cell_type": "code",
   "execution_count": 82,
   "metadata": {},
   "outputs": [
    {
     "data": {
      "text/plain": [
       "(13+43.3j)"
      ]
     },
     "execution_count": 82,
     "metadata": {},
     "output_type": "execute_result"
    }
   ],
   "source": [
    "complex(13,43.3)"
   ]
  },
  {
   "cell_type": "code",
   "execution_count": 83,
   "metadata": {},
   "outputs": [
    {
     "data": {
      "text/plain": [
       "(5+2j)"
      ]
     },
     "execution_count": 83,
     "metadata": {},
     "output_type": "execute_result"
    }
   ],
   "source": [
    "complex('5+2j')"
   ]
  },
  {
   "cell_type": "code",
   "execution_count": 84,
   "metadata": {},
   "outputs": [
    {
     "data": {
      "text/plain": [
       "complex"
      ]
     },
     "execution_count": 84,
     "metadata": {},
     "output_type": "execute_result"
    }
   ],
   "source": [
    "type(complex(1,2))"
   ]
  },
  {
   "cell_type": "code",
   "execution_count": 86,
   "metadata": {},
   "outputs": [
    {
     "name": "stdout",
     "output_type": "stream",
     "text": [
      "(16.14+8j)\n",
      "<class 'complex'>\n"
     ]
    }
   ],
   "source": [
    "a = int(1)\n",
    "b = float(3.14)\n",
    "c = complex(12,8)\n",
    "\n",
    "result = a+b+c\n",
    "print(result)\n",
    "print(type(result))"
   ]
  },
  {
   "cell_type": "markdown",
   "metadata": {},
   "source": [
    "---\n",
    "#### divmod(a,b)\n",
    "복소수가 아닌 두 숫자를 인자로 받아 나눗셈의 몫과 나머지를 반환합니다.<br/>\n",
    "a//b와 a%b의 결과를 반환함<br/>\n",
    "예로 진수 변환 함수를 작성할 때 유용하게 사용할 수 있다."
   ]
  },
  {
   "cell_type": "code",
   "execution_count": 106,
   "metadata": {},
   "outputs": [
    {
     "name": "stdout",
     "output_type": "stream",
     "text": [
      "(2, 1)\n",
      "몫 : 2\n",
      "나머지 : 1\n"
     ]
    }
   ],
   "source": [
    "print(divmod(15,7))\n",
    "q,r = divmod(15,7)\n",
    "print('몫 :',q)\n",
    "print('나머지 :',r)"
   ]
  },
  {
   "cell_type": "code",
   "execution_count": 113,
   "metadata": {},
   "outputs": [
    {
     "name": "stdout",
     "output_type": "stream",
     "text": [
      "1111\n",
      "41\n"
     ]
    }
   ],
   "source": [
    "def change_base(n,b):\n",
    "    c = ''\n",
    "    while(n):\n",
    "        n,r = divmod(n,b)\n",
    "        c += str(r)\n",
    "    return c[::-1]\n",
    "\n",
    "print(change_base(15,2))\n",
    "print(int(change_base(41,3),base=3))"
   ]
  },
  {
   "cell_type": "markdown",
   "metadata": {},
   "source": [
    "---\n",
    "#### enumerate(iterable,start=0)\n",
    "열거 객체를 돌려줍니다. iterable 은 시퀀스, 이터레이터 또는 이터레이션을 지원하는 다른 객체여야 합니다."
   ]
  },
  {
   "cell_type": "code",
   "execution_count": 4,
   "metadata": {},
   "outputs": [
    {
     "name": "stdout",
     "output_type": "stream",
     "text": [
      "[(0, 'zero'), (1, 'one'), (2, 'two'), (3, 'three'), (4, 'four'), (5, 'five')]\n",
      "[(42, 'zero'), (43, 'one'), (44, 'two'), (45, 'three'), (46, 'four'), (47, 'five')]\n"
     ]
    }
   ],
   "source": [
    "it = ['zero','one','two','three','four','five']\n",
    "print(list(enumerate(it)))\n",
    "print(list(enumerate(it,start=42)))"
   ]
  },
  {
   "cell_type": "markdown",
   "metadata": {},
   "source": [
    "---\n",
    "#### eval(expression[, globals[, locals]])\n",
    "인자는 문자열 및 선택적 globals 및 locals다. 제공된 경우, globals 는 딕셔너리여야 합니다. 제공되는 경우, locals 는 모든 매핑 객체가 될 수 있습니다.<br/>\n",
    "문자열로 이루어진 표현식을 입력받고 실행한다.\n",
    "\n",
    "---\n",
    "#### exec(object[, globals[, locals]])\n",
    "이 함수는 파이썬 코드의 동적 실행을 지원합니다. object 는 문자열 또는 코드 객체여야 합니다.<br/>\n",
    "문자열로 이루어진 표현을 입력받고 코드의 동적 실행을 수행한다.<br/>\n",
    "eval과 다르게 표현식 이외의 모든 코드 수행이 가능\n",
    "\n",
    "eval, exec함수 모두 보안상 문제를 발생시킬 수 있기 때문에 사용에 깊게 주의하는 것이 좋다."
   ]
  },
  {
   "cell_type": "markdown",
   "metadata": {},
   "source": [
    "---\n",
    "#### float([x])\n",
    "숫자 또는 문자열 x 로 부터 실수를 만들어 돌려줍니다.<br/>\n",
    "모든 숫자 형태의 문자열 또는 숫자를 입력받아 실수로 반환한다.<br/>\n",
    "또한 float('inf')는 어떤 수보다 큰 수로 사용될 수 있다."
   ]
  },
  {
   "cell_type": "code",
   "execution_count": 17,
   "metadata": {},
   "outputs": [
    {
     "name": "stdout",
     "output_type": "stream",
     "text": [
      "1.23\n",
      "-123.0\n",
      "0.123\n",
      "123000.0\n",
      "inf\n",
      "0.0\n"
     ]
    }
   ],
   "source": [
    "a = float('1.23')\n",
    "b = float('       -123\\n')\n",
    "c = float('123e-003')\n",
    "d = float('123e3')\n",
    "e = float('inf')\n",
    "f = float()\n",
    "\n",
    "print(a)\n",
    "print(b)\n",
    "print(c)\n",
    "print(d)\n",
    "print(e)\n",
    "print(f)"
   ]
  },
  {
   "cell_type": "code",
   "execution_count": 12,
   "metadata": {},
   "outputs": [
    {
     "name": "stdout",
     "output_type": "stream",
     "text": [
      "NO\n"
     ]
    },
    {
     "data": {
      "text/plain": [
       "False"
      ]
     },
     "execution_count": 12,
     "metadata": {},
     "output_type": "execute_result"
    }
   ],
   "source": [
    "def is_anyting_bigger_than_inf(*args):\n",
    "    inf = float('inf')\n",
    "    for n in args:\n",
    "        try:\n",
    "            if(n>inf):\n",
    "                print('YES')\n",
    "                return True\n",
    "        except:\n",
    "            print('worng input')\n",
    "            return -1\n",
    "    print('NO')\n",
    "    return False\n",
    "\n",
    "is_anyting_bigger_than_inf(99999999999999999999,-99999999999999,999999999e9999999999999)"
   ]
  },
  {
   "cell_type": "markdown",
   "metadata": {},
   "source": [
    "---\n",
    "#### frozenset([iterable])\n",
    "새 frozenset 객체를 돌려주는데, 선택적으로 iterable 에서 가져온 요소를 포함합니다.<br/>\n",
    "iterable을 입력받아 집합 자료형인 frozenset을 반환한다.<br/>\n",
    "frozenset은 set과 동일한 집합 자료형이지만 set은 가변, frozenset은 불변형이다."
   ]
  },
  {
   "cell_type": "code",
   "execution_count": 20,
   "metadata": {},
   "outputs": [
    {
     "data": {
      "text/plain": [
       "frozenset({1, 2, 3, 4, 5})"
      ]
     },
     "execution_count": 20,
     "metadata": {},
     "output_type": "execute_result"
    }
   ],
   "source": [
    "frozenset([1,2,3,4,5,1,2])"
   ]
  },
  {
   "cell_type": "markdown",
   "metadata": {},
   "source": [
    "---\n",
    "#### globals()\n",
    "현재 전역 심볼 테이블을 나타내는 딕셔너리를 돌려줍니다.<br/>\n",
    "현재 전역 변수(global 변수)들을 딕셔너리형태로 반환한다."
   ]
  },
  {
   "cell_type": "code",
   "execution_count": null,
   "metadata": {},
   "outputs": [],
   "source": []
  }
 ],
 "metadata": {
  "kernelspec": {
   "display_name": "Python 3",
   "language": "python",
   "name": "python3"
  },
  "language_info": {
   "codemirror_mode": {
    "name": "ipython",
    "version": 3
   },
   "file_extension": ".py",
   "mimetype": "text/x-python",
   "name": "python",
   "nbconvert_exporter": "python",
   "pygments_lexer": "ipython3",
   "version": "3.8.8"
  }
 },
 "nbformat": 4,
 "nbformat_minor": 4
}
