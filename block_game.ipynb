{
 "cells": [
  {
   "cell_type": "markdown",
   "metadata": {},
   "source": [
    "### nxn tetris\n",
    "1x1 block only"
   ]
  },
  {
   "cell_type": "code",
   "execution_count": 19,
   "metadata": {},
   "outputs": [
    {
     "data": {
      "text/plain": [
       "[[0, 0, 0, 0, 0],\n",
       " [0, 0, 0, 0, 0],\n",
       " [0, 0, 0, 0, 0],\n",
       " [0, 0, 1, 0, 0],\n",
       " [0, 1, 1, 0, 0]]"
      ]
     },
     "execution_count": 19,
     "metadata": {},
     "output_type": "execute_result"
    }
   ],
   "source": [
    "n=5\n",
    "input = [0,1,0,2,4,2,3,2,2,4,1,1,3]\n",
    "\n",
    "board = [[0 for i in range(n)] for j in range(n)]\n",
    "for loc in input:\n",
    "    l = 0\n",
    "    while(l<n-1 and board[l+1][loc]==0):\n",
    "        l+=1\n",
    "    board[l][loc] = 1\n",
    "    \n",
    "    if(all(board[n-1])):\n",
    "        board.pop(n-1)\n",
    "        board.insert(0,[0 for i in range(n)])\n",
    "        \n",
    "board"
   ]
  }
 ],
 "metadata": {
  "kernelspec": {
   "display_name": "Python 3",
   "language": "python",
   "name": "python3"
  },
  "language_info": {
   "codemirror_mode": {
    "name": "ipython",
    "version": 3
   },
   "file_extension": ".py",
   "mimetype": "text/x-python",
   "name": "python",
   "nbconvert_exporter": "python",
   "pygments_lexer": "ipython3",
   "version": "3.6.12"
  }
 },
 "nbformat": 4,
 "nbformat_minor": 4
}
