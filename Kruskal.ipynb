{
 "cells": [
  {
   "cell_type": "code",
   "execution_count": null,
   "id": "4b3a4afe-cbb9-4df4-b258-ca5c3637e57e",
   "metadata": {},
   "outputs": [],
   "source": [
    "# n : number of node\n",
    "# costs : info of linked node and weight\n",
    "\n",
    "def solution(n, costs):\n",
    "    parent = [i for i in range(n)]\n",
    "    def find(x):\n",
    "        if(x==parent[x]):\n",
    "            return x\n",
    "        else:\n",
    "            parent[x] = find(parent[x])\n",
    "            return parent[x]\n",
    "    def union(x, y):\n",
    "        x = find(x)\n",
    "        y = find(y)\n",
    "        if(x!=y):\n",
    "            if(x<y):\n",
    "                parent[y] = x\n",
    "            else:\n",
    "                parent[x] = y\n",
    "    def is_same_parent(x, y):\n",
    "        x = find(x)\n",
    "        y = find(y)\n",
    "        if(x==y):\n",
    "            return True\n",
    "        else:\n",
    "            return False\n",
    "    costs = sorted(costs,key=lambda x:x[2])\n",
    "    answer = 0\n",
    "    print(costs)\n",
    "    for i in costs:\n",
    "        if(not is_same_parent(i[0],i[1])):\n",
    "            union(i[0],i[1])\n",
    "            answer += i[2]\n",
    "    return answer\n",
    "\n",
    "# ex\n",
    "n = "
   ]
  }
 ],
 "metadata": {
  "kernelspec": {
   "display_name": "Python 3 (ipykernel)",
   "language": "python",
   "name": "python3"
  },
  "language_info": {
   "codemirror_mode": {
    "name": "ipython",
    "version": 3
   },
   "file_extension": ".py",
   "mimetype": "text/x-python",
   "name": "python",
   "nbconvert_exporter": "python",
   "pygments_lexer": "ipython3",
   "version": "3.9.7"
  }
 },
 "nbformat": 4,
 "nbformat_minor": 5
}
